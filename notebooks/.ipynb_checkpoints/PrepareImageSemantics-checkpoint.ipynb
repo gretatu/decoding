{
 "cells": [
  {
   "cell_type": "code",
   "execution_count": 4,
   "metadata": {
    "collapsed": true
   },
   "outputs": [],
   "source": [
    "# Imports\n",
    "import numpy as np\n",
    "import h5py\n",
    "import pandas as pd\n",
    "import scipy.io as sio\n",
    "import csv\n",
    "import os\n",
    "import sys\n",
    "\n",
    "sys.path.append(\"../\") # go to parent dir\n",
    "\n",
    "from mrcode.utils.network_utils import delete_hf5_elements, create_hf5_test"
   ]
  },
  {
   "cell_type": "markdown",
   "metadata": {},
   "source": [
    "# Creating image semantics in correct order for all subjects"
   ]
  },
  {
   "cell_type": "code",
   "execution_count": 8,
   "metadata": {},
   "outputs": [
    {
     "data": {
      "text/plain": [
       "345"
      ]
     },
     "execution_count": 8,
     "metadata": {},
     "output_type": "execute_result"
    }
   ],
   "source": [
    "# Importing the h5 file\n",
    "hf = h5py.File('../data/pred_image_semantics/test.h5', 'r')\n",
    "keys1 = list(hf.keys())\n",
    "len(keys1)"
   ]
  },
  {
   "cell_type": "code",
   "execution_count": 114,
   "metadata": {
    "collapsed": true
   },
   "outputs": [],
   "source": [
    "# Get image ids\n",
    "def getImageIds(path):\n",
    "    imageids = []\n",
    "    with open(path) as f:\n",
    "        reader = csv.reader(f, delimiter = '\\t')\n",
    "        for row in reader:\n",
    "            if row[2] != 'image_id':\n",
    "                imageids.append(row[2])\n",
    "    return imageids  \n",
    "\n",
    "def getImageSemantics(imageids):\n",
    "    imagesVectors = []\n",
    "    for i in imageids:\n",
    "        # Get the data\n",
    "        image = hf.get(i)\n",
    "        imageSemantics = np.array(image)\n",
    "        # Append to the list\n",
    "        imagesVectors.append(imageSemantics)\n",
    "\n",
    "    npImages = np.asarray(imagesVectors)\n",
    "    npImagesTrans = npImages.transpose()\n",
    "    \n",
    "    return npImagesTrans"
   ]
  },
  {
   "cell_type": "code",
   "execution_count": 115,
   "metadata": {},
   "outputs": [
    {
     "name": "stdout",
     "output_type": "stream",
     "text": [
      "Creating image semantics for C:/Users/Dea/Documents/GitHub/Project-MindReading/data/experiment_data\\dryelectrodesGreta\n",
      "Creating image semantics for C:/Users/Dea/Documents/GitHub/Project-MindReading/data/experiment_data\\dryelectrodesJeppe\n",
      "Creating image semantics for C:/Users/Dea/Documents/GitHub/Project-MindReading/data/experiment_data\\dryelectrodesNicolai\n",
      "Creating image semantics for C:/Users/Dea/Documents/GitHub/Project-MindReading/data/experiment_data\\dryelectrodesNicolaiNew\n",
      "Creating image semantics for C:/Users/Dea/Documents/GitHub/Project-MindReading/data/experiment_data\\dryelectrodesPaolo\n",
      "Creating image semantics for C:/Users/Dea/Documents/GitHub/Project-MindReading/data/experiment_data\\exp1\n",
      "Creating image semantics for C:/Users/Dea/Documents/GitHub/Project-MindReading/data/experiment_data\\exp10\n",
      "Creating image semantics for C:/Users/Dea/Documents/GitHub/Project-MindReading/data/experiment_data\\exp11\n",
      "Creating image semantics for C:/Users/Dea/Documents/GitHub/Project-MindReading/data/experiment_data\\exp2\n",
      "Creating image semantics for C:/Users/Dea/Documents/GitHub/Project-MindReading/data/experiment_data\\exp3\n",
      "Creating image semantics for C:/Users/Dea/Documents/GitHub/Project-MindReading/data/experiment_data\\exp4\n",
      "Creating image semantics for C:/Users/Dea/Documents/GitHub/Project-MindReading/data/experiment_data\\exp5\n",
      "Creating image semantics for C:/Users/Dea/Documents/GitHub/Project-MindReading/data/experiment_data\\exp6\n",
      "Creating image semantics for C:/Users/Dea/Documents/GitHub/Project-MindReading/data/experiment_data\\exp7\n",
      "Creating image semantics for C:/Users/Dea/Documents/GitHub/Project-MindReading/data/experiment_data\\exp8\n",
      "Creating image semantics for C:/Users/Dea/Documents/GitHub/Project-MindReading/data/experiment_data\\exp9\n"
     ]
    }
   ],
   "source": [
    "# Creating image semantics in the correct order for all the experiments in the below folder\n",
    "rootdir = 'C:/Users/Dea/Documents/GitHub/Project-MindReading/data/experiment_data'\n",
    "\n",
    "for subdir, dirs, files in os.walk(rootdir):\n",
    "    # checking if the image sematics is already created and if image order exists\n",
    "    if ('image_semantics.mat' not in files) & ('image_order.txt' in files):\n",
    "        print('Creating image semantics for ' + subdir)\n",
    "        path = subdir + '/image_order.txt'\n",
    "        # 'C:/Users/Dea/Documents/GitHub/Project-MindReading/data/experiment_data/exp1/image_order.txt'\n",
    "        # Getting the image ids\n",
    "        imageids = getImageIds(path)\n",
    "        # Collecting the image semantics\n",
    "        image_semantics = getImageSemantics(imageids)\n",
    "        # Save the image semantics\n",
    "        save_path = subdir + '/image_semantics.mat'\n",
    "        sio.savemat(save_path, {'image_semantics':image_semantics})"
   ]
  },
  {
   "cell_type": "markdown",
   "metadata": {},
   "source": [
    "## Initial code for extracting image semantics for one subject"
   ]
  },
  {
   "cell_type": "code",
   "execution_count": 48,
   "metadata": {
    "collapsed": true
   },
   "outputs": [],
   "source": [
    "# loading a csv file with imageids\n",
    "imageids = []\n",
    "with open('data/imageids_orders/imageorder_sorted_Jeppe_Paolo.csv', 'r') as f:\n",
    "    reader = csv.reader(f)\n",
    "    for row in reader:\n",
    "        #print(row[0][-16:-4])\n",
    "        imageids.append(row[0][-16:-4])"
   ]
  },
  {
   "cell_type": "code",
   "execution_count": 57,
   "metadata": {
    "collapsed": true
   },
   "outputs": [],
   "source": [
    "# loading text file\n",
    "imageids = []\n",
    "with open('data/imageids_orders/imageorder_Jeppe.txt') as f:\n",
    "    reader = csv.reader(f)\n",
    "    for row in reader:\n",
    "        if row[0] != 'image_id':\n",
    "            imageids.append(row[0])"
   ]
  },
  {
   "cell_type": "code",
   "execution_count": 52,
   "metadata": {},
   "outputs": [
    {
     "data": {
      "text/plain": [
       "['000000005344',\n",
       " '000000139130',\n",
       " '000000081363',\n",
       " '000000038890',\n",
       " '000000038628',\n",
       " '000000150360',\n",
       " '000000195137',\n",
       " '000000530855',\n",
       " '000000156396',\n",
       " '000000356368',\n",
       " '000000261344',\n",
       " '000000161569',\n",
       " '000000157886',\n",
       " '000000194551',\n",
       " '000000029732',\n",
       " '000000323494',\n",
       " '000000202298',\n",
       " '000000315905',\n",
       " '000000084488',\n",
       " '000000557220',\n",
       " '000000101684',\n",
       " '000000576327',\n",
       " '000000014377',\n",
       " '000000139675',\n",
       " '000000200143',\n",
       " '000000116792',\n",
       " '000000298979',\n",
       " '000000446459',\n",
       " '000000101657',\n",
       " '000000152108',\n",
       " '000000049946',\n",
       " '000000561529',\n",
       " '000000389669',\n",
       " '000000068697',\n",
       " '000000468363',\n",
       " '000000277543',\n",
       " '000000473919',\n",
       " '000000552876',\n",
       " '000000151053',\n",
       " '000000216206',\n",
       " '000000194956',\n",
       " '000000374156',\n",
       " '000000515006',\n",
       " '000000171315',\n",
       " '000000061351',\n",
       " '000000400872',\n",
       " '000000044467',\n",
       " '000000271522',\n",
       " '000000221561',\n",
       " '000000328888',\n",
       " '000000564940',\n",
       " '000000538149',\n",
       " '000000186336',\n",
       " '000000190216',\n",
       " '000000338419',\n",
       " '000000233780',\n",
       " '000000131060',\n",
       " '000000575496',\n",
       " '000000170980',\n",
       " '000000276554',\n",
       " '000000561446',\n",
       " '000000410344',\n",
       " '000000402071',\n",
       " '000000181224',\n",
       " '000000210951',\n",
       " '000000443391',\n",
       " '000000374107',\n",
       " '000000446751',\n",
       " '000000489899',\n",
       " '000000141201',\n",
       " '000000298639',\n",
       " '000000370043',\n",
       " '000000315607',\n",
       " '000000456315',\n",
       " '000000059295',\n",
       " '000000168190',\n",
       " '000000458153',\n",
       " '000000307936',\n",
       " '000000372250',\n",
       " '000000040210',\n",
       " '000000331059',\n",
       " '000000171142',\n",
       " '000000272803',\n",
       " '000000569415',\n",
       " '000000042696',\n",
       " '000000291894',\n",
       " '000000573544',\n",
       " '000000064802',\n",
       " '000000434234',\n",
       " '000000553189',\n",
       " '000000483159',\n",
       " '000000136929',\n",
       " '000000316407',\n",
       " '000000205196',\n",
       " '000000286910',\n",
       " '000000005754',\n",
       " '000000244846',\n",
       " '000000482037',\n",
       " '000000009822',\n",
       " '000000110111',\n",
       " '000000064697',\n",
       " '000000228133',\n",
       " '000000093603',\n",
       " '000000147914',\n",
       " '000000403579',\n",
       " '000000450856',\n",
       " '000000549117',\n",
       " '000000166124',\n",
       " '000000184713',\n",
       " '000000513266',\n",
       " '000000332724',\n",
       " '000000312536',\n",
       " '000000434771',\n",
       " '000000180333',\n",
       " '000000415322',\n",
       " '000000421745',\n",
       " '000000018045',\n",
       " '000000480583',\n",
       " '000000368827',\n",
       " '000000497484',\n",
       " '000000482834',\n",
       " '000000563233',\n",
       " '000000521884',\n",
       " '000000575909',\n",
       " '000000386633',\n",
       " '000000069087',\n",
       " '000000005669',\n",
       " '000000208244',\n",
       " '000000157209',\n",
       " '000000013333',\n",
       " '000000424293',\n",
       " '000000321308',\n",
       " '000000482233',\n",
       " '000000425187',\n",
       " '000000489070',\n",
       " '000000547863',\n",
       " '000000180911',\n",
       " '000000167964',\n",
       " '000000496531',\n",
       " '000000202329',\n",
       " '000000578715',\n",
       " '000000117368',\n",
       " '000000379754',\n",
       " '000000529777',\n",
       " '000000305762',\n",
       " '000000334658',\n",
       " '000000473171',\n",
       " '000000558538',\n",
       " '000000567837',\n",
       " '000000451621',\n",
       " '000000379111',\n",
       " '000000199332',\n",
       " '000000476380',\n",
       " '000000356110',\n",
       " '000000250517',\n",
       " '000000335935',\n",
       " '000000471839',\n",
       " '000000428812',\n",
       " '000000354380',\n",
       " '000000297984',\n",
       " '000000506766',\n",
       " '000000051178',\n",
       " '000000028186',\n",
       " '000000093053',\n",
       " '000000247536',\n",
       " '000000156555',\n",
       " '000000173833',\n",
       " '000000149712',\n",
       " '000000120199',\n",
       " '000000542713',\n",
       " '000000331692',\n",
       " '000000089481',\n",
       " '000000532531',\n",
       " '000000017352',\n",
       " '000000117009',\n",
       " '000000352917',\n",
       " '000000146301',\n",
       " '000000242909',\n",
       " '000000311452',\n",
       " '000000206530',\n",
       " '000000025747',\n",
       " '000000283208',\n",
       " '000000080283',\n",
       " '000000227033',\n",
       " '000000506416',\n",
       " '000000034169',\n",
       " '000000548013',\n",
       " '000000435041',\n",
       " '000000459248',\n",
       " '000000217226',\n",
       " '000000351537',\n",
       " '000000429558',\n",
       " '000000308894',\n",
       " '000000353489',\n",
       " '000000465826',\n",
       " '000000540348',\n",
       " '000000217484',\n",
       " '000000263639',\n",
       " '000000425072',\n",
       " '000000295819',\n",
       " '000000534259',\n",
       " '000000055642',\n",
       " '000000354644',\n",
       " '000000369256',\n",
       " '000000452183',\n",
       " '000000535019',\n",
       " '000000178423',\n",
       " '000000053533',\n",
       " '000000347747',\n",
       " '000000099283',\n",
       " '000000362567',\n",
       " '000000238377',\n",
       " '000000005782',\n",
       " '000000090827',\n",
       " '000000410016',\n",
       " '000000255440',\n",
       " '000000210144',\n",
       " '000000311104',\n",
       " '000000093531',\n",
       " '000000364010',\n",
       " '000000498443',\n",
       " '000000021514',\n",
       " '000000466217',\n",
       " '000000532718',\n",
       " '000000411446',\n",
       " '000000115763',\n",
       " '000000562370',\n",
       " '000000118379',\n",
       " '000000283734',\n",
       " '000000181815',\n",
       " '000000382435',\n",
       " '000000556782',\n",
       " '000000435294',\n",
       " '000000519431',\n",
       " '000000542407',\n",
       " '000000058437',\n",
       " '000000537955',\n",
       " '000000540225',\n",
       " '000000106621',\n",
       " '000000079021',\n",
       " '000000356767',\n",
       " '000000079024',\n",
       " '000000139594',\n",
       " '000000207179',\n",
       " '000000044240',\n",
       " '000000294829',\n",
       " '000000153340',\n",
       " '000000351876',\n",
       " '000000546085',\n",
       " '000000552170',\n",
       " '000000470423',\n",
       " '000000330604',\n",
       " '000000136572',\n",
       " '000000225641',\n",
       " '000000206176',\n",
       " '000000291280',\n",
       " '000000342004',\n",
       " '000000462026',\n",
       " '000000151345',\n",
       " '000000150487',\n",
       " '000000321742',\n",
       " '000000345719',\n",
       " '000000257118',\n",
       " '000000106688',\n",
       " '000000538792',\n",
       " '000000351252',\n",
       " '000000348487',\n",
       " '000000151265',\n",
       " '000000101643',\n",
       " '000000258196',\n",
       " '000000180623',\n",
       " '000000500446',\n",
       " '000000423990',\n",
       " '000000369669',\n",
       " '000000464993',\n",
       " '000000492379',\n",
       " '000000414244',\n",
       " '000000110308',\n",
       " '000000277433',\n",
       " '000000109169',\n",
       " '000000458568',\n",
       " '000000008218',\n",
       " '000000026227',\n",
       " '000000031024',\n",
       " '000000287384',\n",
       " '000000538209',\n",
       " '000000159680',\n",
       " '000000576956',\n",
       " '000000003084',\n",
       " '000000394866',\n",
       " '000000177166',\n",
       " '000000109835',\n",
       " '000000573483',\n",
       " '000000219920',\n",
       " '000000157176',\n",
       " '000000285914',\n",
       " '000000060409',\n",
       " '000000419211',\n",
       " '000000236324',\n",
       " '000000358724',\n",
       " '000000197225',\n",
       " '000000129715',\n",
       " '000000488726',\n",
       " '000000475766',\n",
       " '000000181058',\n",
       " '000000454538',\n",
       " '000000366950',\n",
       " '000000371029',\n",
       " '000000364913',\n",
       " '000000477828',\n",
       " '000000160746',\n",
       " '000000163332',\n",
       " '000000061675',\n",
       " '000000366975',\n",
       " '000000052563',\n",
       " '000000255489',\n",
       " '000000094826',\n",
       " '000000518834',\n",
       " '000000396550',\n",
       " '000000503431',\n",
       " '000000186009',\n",
       " '000000470977',\n",
       " '000000520812',\n",
       " '000000180657',\n",
       " '000000455476',\n",
       " '000000345590',\n",
       " '000000353562',\n",
       " '000000427643',\n",
       " '000000070334',\n",
       " '000000391825',\n",
       " '000000473634',\n",
       " '000000265313',\n",
       " '000000576701',\n",
       " '000000519064',\n",
       " '000000045941',\n",
       " '000000288268',\n",
       " '000000435102',\n",
       " '000000098549',\n",
       " '000000200031',\n",
       " '000000420478',\n",
       " '000000230151',\n",
       " '000000181586',\n",
       " '000000267653',\n",
       " '000000288274',\n",
       " '000000226957',\n",
       " '000000406491',\n",
       " '000000432968',\n",
       " '000000054632',\n",
       " '000000299180',\n",
       " '000000075576',\n",
       " '000000489606',\n",
       " '000000262014',\n",
       " '000000035318',\n",
       " '000000053113',\n",
       " '000000195885',\n",
       " '000000442888',\n",
       " '000000343953',\n",
       " '000000072704',\n",
       " '000000403472',\n",
       " '000000075131',\n",
       " '000000445301',\n",
       " '000000568633',\n",
       " '000000244240',\n",
       " '000000337748',\n",
       " '000000191381',\n",
       " '000000051949',\n",
       " '000000132682',\n",
       " '000000422395',\n",
       " '000000042321',\n",
       " '000000407214',\n",
       " '000000558248',\n",
       " '000000169988',\n",
       " '000000333485',\n",
       " '000000236936',\n",
       " '000000424668',\n",
       " '000000386786',\n",
       " '000000352553',\n",
       " '000000531045',\n",
       " '000000247929',\n",
       " '000000496166',\n",
       " '000000524848',\n",
       " '000000066567',\n",
       " '000000218503',\n",
       " '000000067558',\n",
       " '000000285352',\n",
       " '000000002061',\n",
       " '000000137578',\n",
       " '000000071907',\n",
       " '000000216322',\n",
       " '000000090810',\n",
       " '000000205875',\n",
       " '000000259760',\n",
       " '000000105881',\n",
       " '000000005154',\n",
       " '000000015386',\n",
       " '000000158345',\n",
       " '000000434394',\n",
       " '000000109995',\n",
       " '000000482989',\n",
       " '000000072077',\n",
       " '000000415151',\n",
       " '000000101357',\n",
       " '000000406226',\n",
       " '000000239853',\n",
       " '000000467206',\n",
       " '000000082457',\n",
       " '000000393836',\n",
       " '000000379891',\n",
       " '000000435787',\n",
       " '000000101660',\n",
       " '000000027591',\n",
       " '000000460901',\n",
       " '000000162892',\n",
       " '000000150347',\n",
       " '000000485261',\n",
       " '000000211823',\n",
       " '000000078663',\n",
       " '000000521560',\n",
       " '000000165927',\n",
       " '000000538925',\n",
       " '000000297465',\n",
       " '000000423336',\n",
       " '000000314002',\n",
       " '000000311709',\n",
       " '000000288691',\n",
       " '000000028429',\n",
       " '000000050750',\n",
       " '000000448251',\n",
       " '000000091735',\n",
       " '000000088382',\n",
       " '000000553533',\n",
       " '000000397010',\n",
       " '000000484384',\n",
       " '000000330683',\n",
       " '000000416765',\n",
       " '000000164497',\n",
       " '000000420702',\n",
       " '000000495881',\n",
       " '000000333133',\n",
       " '000000173760',\n",
       " '000000183268',\n",
       " '000000540283',\n",
       " '000000121461',\n",
       " '000000318708',\n",
       " '000000452213',\n",
       " '000000568654',\n",
       " '000000265766',\n",
       " '000000275723',\n",
       " '000000414560',\n",
       " '000000376358',\n",
       " '000000224109',\n",
       " '000000342394',\n",
       " '000000403705',\n",
       " '000000226527',\n",
       " '000000120060',\n",
       " '000000014686',\n",
       " '000000021061',\n",
       " '000000102665',\n",
       " '000000478480',\n",
       " '000000359365',\n",
       " '000000467911',\n",
       " '000000068625',\n",
       " '000000332815',\n",
       " '000000503616',\n",
       " '000000183719',\n",
       " '000000071911',\n",
       " '000000026958',\n",
       " '000000404748',\n",
       " '000000397832',\n",
       " '000000441599',\n",
       " '000000395735',\n",
       " '000000202880',\n",
       " '000000459765',\n",
       " '000000471665',\n",
       " '000000358134',\n",
       " '000000002342',\n",
       " '000000532147',\n",
       " '000000159585',\n",
       " '000000130252',\n",
       " '000000174507',\n",
       " '000000549933',\n",
       " '000000358750',\n",
       " '000000473891',\n",
       " '000000282631',\n",
       " '000000404183',\n",
       " '000000226708',\n",
       " '000000100506',\n",
       " '000000450607',\n",
       " '000000211386',\n",
       " '000000153861',\n",
       " '000000282097',\n",
       " '000000048784',\n",
       " '000000183123',\n",
       " '000000382890',\n",
       " '000000212507',\n",
       " '000000453222',\n",
       " '000000406579',\n",
       " '000000509217',\n",
       " '000000248862',\n",
       " '000000112702',\n",
       " '000000559040',\n",
       " '000000030484',\n",
       " '000000316522',\n",
       " '000000315997',\n",
       " '000000414477',\n",
       " '000000200749',\n",
       " '000000120645',\n",
       " '000000408599',\n",
       " '000000005174',\n",
       " '000000206256',\n",
       " '000000354491',\n",
       " '000000331291',\n",
       " '000000062298',\n",
       " '000000471566',\n",
       " '000000064442',\n",
       " '000000578902',\n",
       " '000000187401',\n",
       " '000000552276',\n",
       " '000000104565',\n",
       " '000000539984',\n",
       " '000000359984',\n",
       " '000000439124',\n",
       " '000000300192',\n",
       " '000000510175',\n",
       " '000000510914',\n",
       " '000000489266',\n",
       " '000000323585',\n",
       " '000000135129',\n",
       " '000000579463',\n",
       " '000000170638',\n",
       " '000000422729',\n",
       " '000000209320',\n",
       " '000000266991',\n",
       " '000000472776',\n",
       " '000000311957',\n",
       " '000000532543',\n",
       " '000000560853',\n",
       " '000000393677',\n",
       " '000000158824',\n",
       " '000000318814',\n",
       " '000000408965',\n",
       " '000000572251',\n",
       " '000000311641',\n",
       " '000000414813',\n",
       " '000000069693',\n",
       " '000000247209',\n",
       " '000000438704',\n",
       " '000000216115',\n",
       " '000000301419',\n",
       " '000000270136',\n",
       " '000000178870',\n",
       " '000000105096',\n",
       " '000000392670',\n",
       " '000000082611',\n",
       " '000000483573',\n",
       " '000000042893',\n",
       " '000000135790',\n",
       " '000000527510',\n",
       " '000000300704',\n",
       " '000000202943',\n",
       " '000000084875',\n",
       " '000000239992',\n",
       " '000000460625',\n",
       " '000000448358',\n",
       " '000000228754',\n",
       " '000000478403',\n",
       " '000000274959',\n",
       " '000000439619',\n",
       " '000000200391',\n",
       " '000000340405',\n",
       " '000000519713',\n",
       " '000000179869',\n",
       " '000000096572',\n",
       " '000000206444',\n",
       " '000000409163',\n",
       " '000000211853',\n",
       " '000000387551',\n",
       " '000000102604',\n",
       " '000000400547',\n",
       " '000000466484',\n",
       " '000000023035',\n",
       " '000000124747',\n",
       " '000000325265',\n",
       " '000000341440',\n",
       " '000000121188',\n",
       " '000000140426',\n",
       " '000000202050',\n",
       " '000000331140',\n",
       " '000000516264',\n",
       " '000000539673',\n",
       " '000000520743',\n",
       " '000000165365',\n",
       " '000000381214',\n",
       " '000000268114',\n",
       " '000000407821',\n",
       " '000000497633',\n",
       " '000000334393',\n",
       " '000000149431',\n",
       " '000000324877',\n",
       " '000000402097',\n",
       " '000000395973',\n",
       " '000000344801',\n",
       " '000000209728',\n",
       " '000000519528',\n",
       " '000000459747',\n",
       " '000000337035',\n",
       " '000000150987',\n",
       " '000000270644',\n",
       " '000000395211',\n",
       " '000000095022',\n",
       " '000000361212',\n",
       " '000000525999',\n",
       " '000000367092',\n",
       " '000000129719',\n",
       " '000000270351',\n",
       " '000000462664',\n",
       " '000000123188',\n",
       " '000000161278',\n",
       " '000000343606',\n",
       " '000000307400',\n",
       " '000000005694',\n",
       " '000000118087',\n",
       " '000000400994',\n",
       " '000000161266',\n",
       " '000000307507',\n",
       " '000000537652',\n",
       " '000000323936',\n",
       " '000000474920',\n",
       " '000000384994',\n",
       " '000000031334',\n",
       " '000000127110',\n",
       " '000000490475',\n",
       " '000000520980',\n",
       " '000000436578',\n",
       " '000000437426',\n",
       " '000000250385',\n",
       " '000000271568',\n",
       " '000000239706',\n",
       " '000000521256',\n",
       " '000000399984',\n",
       " '000000222122',\n",
       " '000000300123',\n",
       " '000000199943',\n",
       " '000000004705',\n",
       " '000000306222',\n",
       " '000000133428',\n",
       " '000000024351',\n",
       " '000000216455',\n",
       " '000000371183',\n",
       " '000000343993',\n",
       " '000000370193',\n",
       " '000000405226',\n",
       " '000000220244',\n",
       " '000000118748',\n",
       " '000000096481',\n",
       " '000000201308',\n",
       " '000000220306',\n",
       " '000000445276',\n",
       " '000000172036',\n",
       " '000000285089',\n",
       " '000000444203',\n",
       " '000000474188',\n",
       " '000000111988',\n",
       " '000000417596',\n",
       " '000000330564',\n",
       " '000000112805',\n",
       " '000000288453',\n",
       " '000000113128',\n",
       " '000000182179',\n",
       " '000000395469',\n",
       " '000000540988',\n",
       " '000000461278',\n",
       " '000000190896',\n",
       " '000000212268',\n",
       " '000000164583',\n",
       " '000000380906',\n",
       " '000000399091',\n",
       " '000000540863',\n",
       " '000000157032',\n",
       " '000000282176',\n",
       " '000000014869',\n",
       " '000000012999',\n",
       " '000000153136',\n",
       " '000000333106',\n",
       " '000000465092',\n",
       " '000000522554',\n",
       " '000000393744',\n",
       " '000000474713',\n",
       " '000000170960',\n",
       " '000000263246']"
      ]
     },
     "execution_count": 52,
     "metadata": {},
     "output_type": "execute_result"
    }
   ],
   "source": [
    "imageids"
   ]
  },
  {
   "cell_type": "code",
   "execution_count": 1,
   "metadata": {
    "collapsed": true
   },
   "outputs": [],
   "source": [
    "# importing the h5 file\n",
    "hf = h5py.File('data/train.h5', 'r')\n",
    "keys = list(hf.keys())\n",
    "len(keys)"
   ]
  },
  {
   "cell_type": "code",
   "execution_count": 2,
   "metadata": {
    "collapsed": true
   },
   "outputs": [],
   "source": [
    "with h5py.File('data/train.h5',  \"a\") as f:\n",
    "    for i in imageids:\n",
    "        del f[i]"
   ]
  },
  {
   "cell_type": "markdown",
   "metadata": {},
   "source": [
    "### Create a dataframe with all the images in the experiment and their image semantic vectors"
   ]
  },
  {
   "cell_type": "code",
   "execution_count": 53,
   "metadata": {
    "collapsed": true
   },
   "outputs": [],
   "source": [
    "imagesVectors = []\n",
    "for i in imageids:\n",
    "    # Get the data\n",
    "    image = hf.get(i)\n",
    "    imageSemantics = np.array(image)\n",
    "    # Append to the list\n",
    "    imagesVectors.append(imageSemantics)"
   ]
  },
  {
   "cell_type": "code",
   "execution_count": 54,
   "metadata": {
    "collapsed": true
   },
   "outputs": [],
   "source": [
    "npImages = np.asarray(imagesVectors)"
   ]
  },
  {
   "cell_type": "code",
   "execution_count": 55,
   "metadata": {
    "collapsed": true
   },
   "outputs": [],
   "source": [
    "npImagesTrans = npImages.transpose()"
   ]
  },
  {
   "cell_type": "markdown",
   "metadata": {
    "collapsed": true
   },
   "source": [
    "### Make a matrix that matches the matrix from Matlab"
   ]
  },
  {
   "cell_type": "code",
   "execution_count": 56,
   "metadata": {
    "collapsed": true
   },
   "outputs": [],
   "source": [
    "sio.savemat('image_semantics_Jeppe.mat', {'image_semantics':npImagesTrans})"
   ]
  },
  {
   "cell_type": "code",
   "execution_count": null,
   "metadata": {
    "collapsed": true
   },
   "outputs": [],
   "source": []
  },
  {
   "cell_type": "code",
   "execution_count": null,
   "metadata": {
    "collapsed": true
   },
   "outputs": [],
   "source": []
  },
  {
   "cell_type": "code",
   "execution_count": null,
   "metadata": {
    "collapsed": true
   },
   "outputs": [],
   "source": []
  },
  {
   "cell_type": "code",
   "execution_count": null,
   "metadata": {
    "collapsed": true
   },
   "outputs": [],
   "source": []
  },
  {
   "cell_type": "markdown",
   "metadata": {},
   "source": [
    "## Test why test imsem is not giving nice DM plot in matlab"
   ]
  },
  {
   "cell_type": "code",
   "execution_count": 3,
   "metadata": {
    "collapsed": true
   },
   "outputs": [],
   "source": [
    "image_stats = pd.read_csv('../data/our_image_statistics.csv', dtype={'image_id': np.str})"
   ]
  },
  {
   "cell_type": "code",
   "execution_count": 4,
   "metadata": {},
   "outputs": [
    {
     "data": {
      "text/html": [
       "<div>\n",
       "<style scoped>\n",
       "    .dataframe tbody tr th:only-of-type {\n",
       "        vertical-align: middle;\n",
       "    }\n",
       "\n",
       "    .dataframe tbody tr th {\n",
       "        vertical-align: top;\n",
       "    }\n",
       "\n",
       "    .dataframe thead th {\n",
       "        text-align: right;\n",
       "    }\n",
       "</style>\n",
       "<table border=\"1\" class=\"dataframe\">\n",
       "  <thead>\n",
       "    <tr style=\"text-align: right;\">\n",
       "      <th></th>\n",
       "      <th>image_id</th>\n",
       "      <th>brightness</th>\n",
       "      <th>rms_contrast</th>\n",
       "      <th>supercategories</th>\n",
       "      <th>categories</th>\n",
       "      <th>ratio</th>\n",
       "    </tr>\n",
       "  </thead>\n",
       "  <tbody>\n",
       "    <tr>\n",
       "      <th>0</th>\n",
       "      <td>000000002061</td>\n",
       "      <td>138.172037</td>\n",
       "      <td>57.002787</td>\n",
       "      <td>furniture</td>\n",
       "      <td>toilet</td>\n",
       "      <td>0.75</td>\n",
       "    </tr>\n",
       "    <tr>\n",
       "      <th>1</th>\n",
       "      <td>000000002342</td>\n",
       "      <td>135.688587</td>\n",
       "      <td>58.412852</td>\n",
       "      <td>animal</td>\n",
       "      <td>giraffe</td>\n",
       "      <td>0.75</td>\n",
       "    </tr>\n",
       "    <tr>\n",
       "      <th>2</th>\n",
       "      <td>000000003084</td>\n",
       "      <td>120.102751</td>\n",
       "      <td>48.705221</td>\n",
       "      <td>indoor</td>\n",
       "      <td>clock</td>\n",
       "      <td>0.75</td>\n",
       "    </tr>\n",
       "    <tr>\n",
       "      <th>3</th>\n",
       "      <td>000000005154</td>\n",
       "      <td>116.898115</td>\n",
       "      <td>45.521527</td>\n",
       "      <td>furniture</td>\n",
       "      <td>bed</td>\n",
       "      <td>0.75</td>\n",
       "    </tr>\n",
       "    <tr>\n",
       "      <th>4</th>\n",
       "      <td>000000005174</td>\n",
       "      <td>119.665706</td>\n",
       "      <td>62.867596</td>\n",
       "      <td>vehicle</td>\n",
       "      <td>bus</td>\n",
       "      <td>0.75</td>\n",
       "    </tr>\n",
       "  </tbody>\n",
       "</table>\n",
       "</div>"
      ],
      "text/plain": [
       "       image_id  brightness  rms_contrast supercategories categories  ratio\n",
       "0  000000002061  138.172037     57.002787       furniture     toilet   0.75\n",
       "1  000000002342  135.688587     58.412852          animal    giraffe   0.75\n",
       "2  000000003084  120.102751     48.705221          indoor      clock   0.75\n",
       "3  000000005154  116.898115     45.521527       furniture        bed   0.75\n",
       "4  000000005174  119.665706     62.867596         vehicle        bus   0.75"
      ]
     },
     "execution_count": 4,
     "metadata": {},
     "output_type": "execute_result"
    }
   ],
   "source": [
    "image_stats.head()"
   ]
  },
  {
   "cell_type": "code",
   "execution_count": 12,
   "metadata": {
    "collapsed": true
   },
   "outputs": [],
   "source": [
    "def getImageSemantics(imageids):\n",
    "    imagesVectors = []\n",
    "    for i in imageids:\n",
    "        # Get the data\n",
    "        image = hf.get(i)\n",
    "        imageSemantics = np.array(image)\n",
    "        # Append to the list\n",
    "        imagesVectors.append(imageSemantics)\n",
    "\n",
    "    npImages = np.asarray(imagesVectors)\n",
    "    npImagesTrans = npImages.transpose()\n",
    "    \n",
    "    return npImagesTrans"
   ]
  },
  {
   "cell_type": "code",
   "execution_count": 13,
   "metadata": {},
   "outputs": [
    {
     "data": {
      "text/plain": [
       "690"
      ]
     },
     "execution_count": 13,
     "metadata": {},
     "output_type": "execute_result"
    }
   ],
   "source": [
    "# Importing the h5 file\n",
    "hf = h5py.File('../data/pred_image_semantics/test.h5', 'r')\n",
    "keys = list(hf.keys())\n",
    "len(keys)"
   ]
  },
  {
   "cell_type": "code",
   "execution_count": 56,
   "metadata": {
    "collapsed": true
   },
   "outputs": [],
   "source": [
    "new_list = []\n",
    "for imageid in keys:\n",
    "    index1 = image_stats.index[image_stats['image_id'] == imageid].tolist()[0]\n",
    "    category = image_stats.iloc[index1]['categories']\n",
    "    new_list.append([imageid, category])"
   ]
  },
  {
   "cell_type": "code",
   "execution_count": 57,
   "metadata": {
    "collapsed": true
   },
   "outputs": [],
   "source": [
    "df = pd.DataFrame.from_records(new_list, columns=['imageid','category'])"
   ]
  },
  {
   "cell_type": "code",
   "execution_count": 58,
   "metadata": {},
   "outputs": [
    {
     "data": {
      "text/html": [
       "<div>\n",
       "<style scoped>\n",
       "    .dataframe tbody tr th:only-of-type {\n",
       "        vertical-align: middle;\n",
       "    }\n",
       "\n",
       "    .dataframe tbody tr th {\n",
       "        vertical-align: top;\n",
       "    }\n",
       "\n",
       "    .dataframe thead th {\n",
       "        text-align: right;\n",
       "    }\n",
       "</style>\n",
       "<table border=\"1\" class=\"dataframe\">\n",
       "  <thead>\n",
       "    <tr style=\"text-align: right;\">\n",
       "      <th></th>\n",
       "      <th>imageid</th>\n",
       "      <th>category</th>\n",
       "    </tr>\n",
       "  </thead>\n",
       "  <tbody>\n",
       "    <tr>\n",
       "      <th>0</th>\n",
       "      <td>000000002061</td>\n",
       "      <td>toilet</td>\n",
       "    </tr>\n",
       "    <tr>\n",
       "      <th>1</th>\n",
       "      <td>000000002342</td>\n",
       "      <td>giraffe</td>\n",
       "    </tr>\n",
       "    <tr>\n",
       "      <th>2</th>\n",
       "      <td>000000003084</td>\n",
       "      <td>clock</td>\n",
       "    </tr>\n",
       "    <tr>\n",
       "      <th>3</th>\n",
       "      <td>000000005154</td>\n",
       "      <td>bed</td>\n",
       "    </tr>\n",
       "    <tr>\n",
       "      <th>4</th>\n",
       "      <td>000000005174</td>\n",
       "      <td>bus</td>\n",
       "    </tr>\n",
       "  </tbody>\n",
       "</table>\n",
       "</div>"
      ],
      "text/plain": [
       "        imageid category\n",
       "0  000000002061   toilet\n",
       "1  000000002342  giraffe\n",
       "2  000000003084    clock\n",
       "3  000000005154      bed\n",
       "4  000000005174      bus"
      ]
     },
     "execution_count": 58,
     "metadata": {},
     "output_type": "execute_result"
    }
   ],
   "source": [
    "df.head()"
   ]
  },
  {
   "cell_type": "code",
   "execution_count": 59,
   "metadata": {
    "collapsed": true
   },
   "outputs": [],
   "source": [
    "new_df = df.sort_values('category')"
   ]
  },
  {
   "cell_type": "code",
   "execution_count": 60,
   "metadata": {
    "collapsed": true
   },
   "outputs": [],
   "source": [
    "new_keys = new_df['imageid'].values"
   ]
  },
  {
   "cell_type": "code",
   "execution_count": 61,
   "metadata": {
    "collapsed": true
   },
   "outputs": [],
   "source": [
    "image_sem_test = getImageSemantics(new_keys)"
   ]
  },
  {
   "cell_type": "code",
   "execution_count": 62,
   "metadata": {},
   "outputs": [
    {
     "data": {
      "text/plain": [
       "(2048, 690)"
      ]
     },
     "execution_count": 62,
     "metadata": {},
     "output_type": "execute_result"
    }
   ],
   "source": [
    "image_sem_test.shape"
   ]
  },
  {
   "cell_type": "code",
   "execution_count": 63,
   "metadata": {
    "collapsed": true
   },
   "outputs": [],
   "source": [
    "sio.savemat('../data/pred_image_semantics/imsem_test.mat', {'image_semantics_test':image_sem_test})"
   ]
  },
  {
   "cell_type": "code",
   "execution_count": 101,
   "metadata": {},
   "outputs": [
    {
     "data": {
      "text/plain": [
       "345"
      ]
     },
     "execution_count": 101,
     "metadata": {},
     "output_type": "execute_result"
    }
   ],
   "source": [
    "# Importing the h5 file\n",
    "hf = h5py.File('../data/pred_image_semantics/test_ridge.h5', 'r')\n",
    "keys = list(hf.keys())\n",
    "len(keys)"
   ]
  },
  {
   "cell_type": "code",
   "execution_count": 102,
   "metadata": {
    "collapsed": true
   },
   "outputs": [],
   "source": [
    "new_list = []\n",
    "for imageid in keys:\n",
    "    index1 = image_stats.index[image_stats['image_id'] == imageid].tolist()[0]\n",
    "    category = image_stats.iloc[index1]['categories']\n",
    "    new_list.append([imageid, category])"
   ]
  },
  {
   "cell_type": "code",
   "execution_count": 103,
   "metadata": {
    "collapsed": true
   },
   "outputs": [],
   "source": [
    "df = pd.DataFrame.from_records(new_list, columns=['imageid','category'])"
   ]
  },
  {
   "cell_type": "code",
   "execution_count": 104,
   "metadata": {},
   "outputs": [
    {
     "data": {
      "text/html": [
       "<div>\n",
       "<style scoped>\n",
       "    .dataframe tbody tr th:only-of-type {\n",
       "        vertical-align: middle;\n",
       "    }\n",
       "\n",
       "    .dataframe tbody tr th {\n",
       "        vertical-align: top;\n",
       "    }\n",
       "\n",
       "    .dataframe thead th {\n",
       "        text-align: right;\n",
       "    }\n",
       "</style>\n",
       "<table border=\"1\" class=\"dataframe\">\n",
       "  <thead>\n",
       "    <tr style=\"text-align: right;\">\n",
       "      <th></th>\n",
       "      <th>imageid</th>\n",
       "      <th>category</th>\n",
       "    </tr>\n",
       "  </thead>\n",
       "  <tbody>\n",
       "    <tr>\n",
       "      <th>0</th>\n",
       "      <td>000000002061</td>\n",
       "      <td>toilet</td>\n",
       "    </tr>\n",
       "    <tr>\n",
       "      <th>1</th>\n",
       "      <td>000000003084</td>\n",
       "      <td>clock</td>\n",
       "    </tr>\n",
       "    <tr>\n",
       "      <th>2</th>\n",
       "      <td>000000005174</td>\n",
       "      <td>bus</td>\n",
       "    </tr>\n",
       "    <tr>\n",
       "      <th>3</th>\n",
       "      <td>000000008218</td>\n",
       "      <td>clock</td>\n",
       "    </tr>\n",
       "    <tr>\n",
       "      <th>4</th>\n",
       "      <td>000000014686</td>\n",
       "      <td>giraffe</td>\n",
       "    </tr>\n",
       "  </tbody>\n",
       "</table>\n",
       "</div>"
      ],
      "text/plain": [
       "        imageid category\n",
       "0  000000002061   toilet\n",
       "1  000000003084    clock\n",
       "2  000000005174      bus\n",
       "3  000000008218    clock\n",
       "4  000000014686  giraffe"
      ]
     },
     "execution_count": 104,
     "metadata": {},
     "output_type": "execute_result"
    }
   ],
   "source": [
    "df.head()"
   ]
  },
  {
   "cell_type": "code",
   "execution_count": 105,
   "metadata": {
    "collapsed": true
   },
   "outputs": [],
   "source": [
    "new_df = df.sort_values('category')"
   ]
  },
  {
   "cell_type": "code",
   "execution_count": 106,
   "metadata": {
    "collapsed": true
   },
   "outputs": [],
   "source": [
    "new_keys = new_df['imageid'].values"
   ]
  },
  {
   "cell_type": "code",
   "execution_count": 107,
   "metadata": {},
   "outputs": [
    {
     "data": {
      "text/plain": [
       "array(['000000438704', '000000042893', '000000105096', '000000052498',\n",
       "       '000000178870', '000000572251', '000000448358', '000000202943',\n",
       "       '000000270136', '000000135790', '000000084875', '000000069693',\n",
       "       '000000216115', '000000527510', '000000408965', '000000300123',\n",
       "       '000000096481', '000000220306', '000000445276', '000000405226',\n",
       "       '000000437426', '000000436578', '000000521256', '000000371183',\n",
       "       '000000383413', '000000172036', '000000127110', '000000201308',\n",
       "       '000000490475', '000000387355', '000000482989', '000000521560',\n",
       "       '000000205875', '000000109995', '000000105881', '000000162892',\n",
       "       '000000467206', '000000460901', '000000435787', '000000434394',\n",
       "       '000000259760', '000000015386', '000000027591', '000000078663',\n",
       "       '000000406226', '000000153136', '000000399091', '000000164583',\n",
       "       '000000170960', '000000465092', '000000112805', '000000461278',\n",
       "       '000000333106', '000000330564', '000000190896', '000000474713',\n",
       "       '000000522554', '000000444203', '000000288453', '000000540988',\n",
       "       '000000129719', '000000361212', '000000525999', '000000161266',\n",
       "       '000000307400', '000000307507', '000000095022', '000000161278',\n",
       "       '000000344801', '000000384994', '000000343606', '000000337035',\n",
       "       '000000537652', '000000462664', '000000519528', '000000202050',\n",
       "       '000000206444', '000000402097', '000000409163', '000000334393',\n",
       "       '000000387551', '000000466484', '000000381214', '000000140426',\n",
       "       '000000539673', '000000102604', '000000520743', '000000096572',\n",
       "       '000000519713', '000000121188', '000000404183', '000000453222',\n",
       "       '000000282631', '000000450607', '000000100506', '000000559040',\n",
       "       '000000226708', '000000248862', '000000408599', '000000406579',\n",
       "       '000000509217', '000000005174', '000000153861', '000000549933',\n",
       "       '000000358750', '000000075576', '000000265313', '000000098549',\n",
       "       '000000075131', '000000200031', '000000195885', '000000072704',\n",
       "       '000000403472', '000000230151', '000000435102', '000000420478',\n",
       "       '000000576701', '000000054632', '000000343953', '000000299180',\n",
       "       '000000003084', '000000219920', '000000159680', '000000414244',\n",
       "       '000000236324', '000000538209', '000000031024', '000000423990',\n",
       "       '000000008218', '000000287384', '000000109835', '000000109169',\n",
       "       '000000180623', '000000458568', '000000394866', '000000414560',\n",
       "       '000000416765', '000000423336', '000000275723', '000000314002',\n",
       "       '000000420702', '000000050750', '000000265766', '000000311709',\n",
       "       '000000553533', '000000568654', '000000121461', '000000448251',\n",
       "       '000000397010', '000000376358', '000000079021', '000000382435',\n",
       "       '000000542407', '000000410016', '000000311104', '000000556782',\n",
       "       '000000466217', '000000118379', '000000181815', '000000364010',\n",
       "       '000000532718', '000000537955', '000000090827', '000000106621',\n",
       "       '000000093531', '000000513266', '000000549117', '000000480583',\n",
       "       '000000312536', '000000286910', '000000184713', '000000064697',\n",
       "       '000000403579', '000000368827', '000000110111', '000000228133',\n",
       "       '000000450856', '000000180333', '000000093603', '000000166124',\n",
       "       '000000402071', '000000370043', '000000372250', '000000040210',\n",
       "       '000000434234', '000000456315', '000000489899', '000000553189',\n",
       "       '000000307936', '000000059295', '000000291894', '000000064802',\n",
       "       '000000171142', '000000181224', '000000458153', '000000471665',\n",
       "       '000000130252', '000000120060', '000000014686', '000000021061',\n",
       "       '000000174507', '000000404748', '000000102665', '000000397832',\n",
       "       '000000026958', '000000202880', '000000224109', '000000403705',\n",
       "       '000000332815', '000000478480', '000000439124', '000000471566',\n",
       "       '000000539984', '000000472776', '000000578902', '000000187401',\n",
       "       '000000170638', '000000209320', '000000323585', '000000331291',\n",
       "       '000000359984', '000000266991', '000000104565', '000000135129',\n",
       "       '000000318814', '000000321742', '000000330604', '000000153340',\n",
       "       '000000151265', '000000150487', '000000462026', '000000139594',\n",
       "       '000000356767', '000000101643', '000000207179', '000000079024',\n",
       "       '000000538792', '000000291280', '000000044240', '000000136572',\n",
       "       '000000189243', '000000250517', '000000199332', '000000476380',\n",
       "       '000000149712', '000000089481', '000000542713', '000000051178',\n",
       "       '000000028186', '000000173833', '000000428812', '000000379111',\n",
       "       '000000331692', '000000352917', '000000311452', '000000353562',\n",
       "       '000000061675', '000000186009', '000000163332', '000000180657',\n",
       "       '000000052563', '000000129715', '000000070334', '000000455476',\n",
       "       '000000364913', '000000488726', '000000391825', '000000371029',\n",
       "       '000000366975', '000000454538', '000000379754', '000000473171',\n",
       "       '000000167964', '000000425187', '000000578715', '000000451621',\n",
       "       '000000482233', '000000202329', '000000305762', '000000386633',\n",
       "       '000000547863', '000000563233', '000000521884', '000000496531',\n",
       "       '000000529777', '000000400872', '000000338419', '000000131060',\n",
       "       '000000468363', '000000538149', '000000170980', '000000171315',\n",
       "       '000000186336', '000000190216', '000000194956', '000000049946',\n",
       "       '000000044467', '000000276554', '000000564940', '000000374156',\n",
       "       '000000090810', '000000051949', '000000531045', '000000386786',\n",
       "       '000000137578', '000000002061', '000000285352', '000000216322',\n",
       "       '000000218503', '000000132682', '000000352553', '000000333485',\n",
       "       '000000496166', '000000244240', '000000407214', '000000435041',\n",
       "       '000000369256', '000000217226', '000000429558', '000000025747',\n",
       "       '000000055642', '000000227033', '000000354644', '000000425072',\n",
       "       '000000506416', '000000465826', '000000534259', '000000178423',\n",
       "       '000000535019', '000000080283', '000000576327', '000000261344',\n",
       "       '000000029732', '000000116792', '000000356368', '000000202298',\n",
       "       '000000038628', '000000101657', '000000315905', '000000156396',\n",
       "       '000000530855', '000000157886', '000000084488', '000000038890',\n",
       "       '000000323494'], dtype=object)"
      ]
     },
     "execution_count": 107,
     "metadata": {},
     "output_type": "execute_result"
    }
   ],
   "source": [
    "new_keys"
   ]
  },
  {
   "cell_type": "code",
   "execution_count": 71,
   "metadata": {
    "collapsed": true
   },
   "outputs": [],
   "source": [
    "image_sem_test_ridge = getImageSemantics(new_keys)"
   ]
  },
  {
   "cell_type": "code",
   "execution_count": 72,
   "metadata": {},
   "outputs": [
    {
     "data": {
      "text/plain": [
       "(2048, 345)"
      ]
     },
     "execution_count": 72,
     "metadata": {},
     "output_type": "execute_result"
    }
   ],
   "source": [
    "image_sem_test_ridge.shape"
   ]
  },
  {
   "cell_type": "code",
   "execution_count": 73,
   "metadata": {
    "collapsed": true
   },
   "outputs": [],
   "source": [
    "sio.savemat('../data/pred_image_semantics/imsem_test_ridge.mat', {'image_semantics_test_ridge':image_sem_test_ridge})"
   ]
  },
  {
   "cell_type": "code",
   "execution_count": 143,
   "metadata": {
    "collapsed": true
   },
   "outputs": [],
   "source": [
    "X_test = np.load('../data/pred_image_semantics/X_test.npy')\n",
    "Y_test = np.load('../data/pred_image_semantics/Y_test.npy')\n",
    "imageids_test = np.load('../data/pred_image_semantics/imageids_test.npy')"
   ]
  },
  {
   "cell_type": "code",
   "execution_count": 109,
   "metadata": {},
   "outputs": [
    {
     "data": {
      "text/plain": [
       "(345, 2048)"
      ]
     },
     "execution_count": 109,
     "metadata": {},
     "output_type": "execute_result"
    }
   ],
   "source": [
    "Y_test.shape"
   ]
  },
  {
   "cell_type": "code",
   "execution_count": 110,
   "metadata": {
    "collapsed": true
   },
   "outputs": [],
   "source": [
    "new_list = []\n",
    "for imageid in imageids_test:\n",
    "    index1 = image_stats.index[image_stats['image_id'] == imageid].tolist()[0]\n",
    "    category = image_stats.iloc[index1]['categories']\n",
    "    new_list.append([imageid, category])"
   ]
  },
  {
   "cell_type": "code",
   "execution_count": 111,
   "metadata": {
    "collapsed": true
   },
   "outputs": [],
   "source": [
    "df = pd.DataFrame.from_records(new_list, columns=['imageid','category'])"
   ]
  },
  {
   "cell_type": "code",
   "execution_count": 112,
   "metadata": {
    "collapsed": true
   },
   "outputs": [],
   "source": [
    "new_df = df.sort_values('category')"
   ]
  },
  {
   "cell_type": "code",
   "execution_count": 113,
   "metadata": {
    "collapsed": true
   },
   "outputs": [],
   "source": [
    "new_keys = new_df['imageid'].values"
   ]
  },
  {
   "cell_type": "code",
   "execution_count": 142,
   "metadata": {},
   "outputs": [
    {
     "data": {
      "text/plain": [
       "array(['000000438704', '000000042893', '000000105096', '000000052498',\n",
       "       '000000178870', '000000572251', '000000448358', '000000202943',\n",
       "       '000000270136', '000000135790', '000000084875', '000000069693',\n",
       "       '000000216115', '000000527510', '000000408965', '000000300123',\n",
       "       '000000096481', '000000220306', '000000445276', '000000405226',\n",
       "       '000000437426', '000000436578', '000000521256', '000000371183',\n",
       "       '000000383413', '000000172036', '000000127110', '000000201308',\n",
       "       '000000490475', '000000387355', '000000482989', '000000521560',\n",
       "       '000000205875', '000000109995', '000000105881', '000000162892',\n",
       "       '000000467206', '000000460901', '000000435787', '000000434394',\n",
       "       '000000259760', '000000015386', '000000027591', '000000078663',\n",
       "       '000000406226', '000000153136', '000000399091', '000000164583',\n",
       "       '000000170960', '000000465092', '000000112805', '000000461278',\n",
       "       '000000333106', '000000330564', '000000190896', '000000474713',\n",
       "       '000000522554', '000000444203', '000000288453', '000000540988',\n",
       "       '000000129719', '000000361212', '000000525999', '000000161266',\n",
       "       '000000307400', '000000307507', '000000095022', '000000161278',\n",
       "       '000000344801', '000000384994', '000000343606', '000000337035',\n",
       "       '000000537652', '000000462664', '000000519528', '000000202050',\n",
       "       '000000206444', '000000402097', '000000409163', '000000334393',\n",
       "       '000000387551', '000000466484', '000000381214', '000000140426',\n",
       "       '000000539673', '000000102604', '000000520743', '000000096572',\n",
       "       '000000519713', '000000121188', '000000404183', '000000453222',\n",
       "       '000000282631', '000000450607', '000000100506', '000000559040',\n",
       "       '000000226708', '000000248862', '000000408599', '000000406579',\n",
       "       '000000509217', '000000005174', '000000153861', '000000549933',\n",
       "       '000000358750', '000000075576', '000000265313', '000000098549',\n",
       "       '000000075131', '000000200031', '000000195885', '000000072704',\n",
       "       '000000403472', '000000230151', '000000435102', '000000420478',\n",
       "       '000000576701', '000000054632', '000000343953', '000000299180',\n",
       "       '000000003084', '000000219920', '000000159680', '000000414244',\n",
       "       '000000236324', '000000538209', '000000031024', '000000423990',\n",
       "       '000000008218', '000000287384', '000000109835', '000000109169',\n",
       "       '000000180623', '000000458568', '000000394866', '000000414560',\n",
       "       '000000416765', '000000423336', '000000275723', '000000314002',\n",
       "       '000000420702', '000000050750', '000000265766', '000000311709',\n",
       "       '000000553533', '000000568654', '000000121461', '000000448251',\n",
       "       '000000397010', '000000376358', '000000079021', '000000382435',\n",
       "       '000000542407', '000000410016', '000000311104', '000000556782',\n",
       "       '000000466217', '000000118379', '000000181815', '000000364010',\n",
       "       '000000532718', '000000537955', '000000090827', '000000106621',\n",
       "       '000000093531', '000000513266', '000000549117', '000000480583',\n",
       "       '000000312536', '000000286910', '000000184713', '000000064697',\n",
       "       '000000403579', '000000368827', '000000110111', '000000228133',\n",
       "       '000000450856', '000000180333', '000000093603', '000000166124',\n",
       "       '000000402071', '000000370043', '000000372250', '000000040210',\n",
       "       '000000434234', '000000456315', '000000489899', '000000553189',\n",
       "       '000000307936', '000000059295', '000000291894', '000000064802',\n",
       "       '000000171142', '000000181224', '000000458153', '000000471665',\n",
       "       '000000130252', '000000120060', '000000014686', '000000021061',\n",
       "       '000000174507', '000000404748', '000000102665', '000000397832',\n",
       "       '000000026958', '000000202880', '000000224109', '000000403705',\n",
       "       '000000332815', '000000478480', '000000439124', '000000471566',\n",
       "       '000000539984', '000000472776', '000000578902', '000000187401',\n",
       "       '000000170638', '000000209320', '000000323585', '000000331291',\n",
       "       '000000359984', '000000266991', '000000104565', '000000135129',\n",
       "       '000000318814', '000000321742', '000000330604', '000000153340',\n",
       "       '000000151265', '000000150487', '000000462026', '000000139594',\n",
       "       '000000356767', '000000101643', '000000207179', '000000079024',\n",
       "       '000000538792', '000000291280', '000000044240', '000000136572',\n",
       "       '000000189243', '000000250517', '000000199332', '000000476380',\n",
       "       '000000149712', '000000089481', '000000542713', '000000051178',\n",
       "       '000000028186', '000000173833', '000000428812', '000000379111',\n",
       "       '000000331692', '000000352917', '000000311452', '000000353562',\n",
       "       '000000061675', '000000186009', '000000163332', '000000180657',\n",
       "       '000000052563', '000000129715', '000000070334', '000000455476',\n",
       "       '000000364913', '000000488726', '000000391825', '000000371029',\n",
       "       '000000366975', '000000454538', '000000379754', '000000473171',\n",
       "       '000000167964', '000000425187', '000000578715', '000000451621',\n",
       "       '000000482233', '000000202329', '000000305762', '000000386633',\n",
       "       '000000547863', '000000563233', '000000521884', '000000496531',\n",
       "       '000000529777', '000000400872', '000000338419', '000000131060',\n",
       "       '000000468363', '000000538149', '000000170980', '000000171315',\n",
       "       '000000186336', '000000190216', '000000194956', '000000049946',\n",
       "       '000000044467', '000000276554', '000000564940', '000000374156',\n",
       "       '000000090810', '000000051949', '000000531045', '000000386786',\n",
       "       '000000137578', '000000002061', '000000285352', '000000216322',\n",
       "       '000000218503', '000000132682', '000000352553', '000000333485',\n",
       "       '000000496166', '000000244240', '000000407214', '000000435041',\n",
       "       '000000369256', '000000217226', '000000429558', '000000025747',\n",
       "       '000000055642', '000000227033', '000000354644', '000000425072',\n",
       "       '000000506416', '000000465826', '000000534259', '000000178423',\n",
       "       '000000535019', '000000080283', '000000576327', '000000261344',\n",
       "       '000000029732', '000000116792', '000000356368', '000000202298',\n",
       "       '000000038628', '000000101657', '000000315905', '000000156396',\n",
       "       '000000530855', '000000157886', '000000084488', '000000038890',\n",
       "       '000000323494'], dtype=object)"
      ]
     },
     "execution_count": 142,
     "metadata": {},
     "output_type": "execute_result"
    }
   ],
   "source": [
    "new_keys"
   ]
  },
  {
   "cell_type": "code",
   "execution_count": 95,
   "metadata": {
    "collapsed": true
   },
   "outputs": [],
   "source": [
    "image_sem_test_ridge = getImageSemantics(new_keys)"
   ]
  },
  {
   "cell_type": "code",
   "execution_count": 96,
   "metadata": {},
   "outputs": [
    {
     "data": {
      "text/plain": [
       "(2048, 345)"
      ]
     },
     "execution_count": 96,
     "metadata": {},
     "output_type": "execute_result"
    }
   ],
   "source": [
    "image_sem_test_ridge.shape"
   ]
  },
  {
   "cell_type": "code",
   "execution_count": 98,
   "metadata": {
    "collapsed": true
   },
   "outputs": [],
   "source": [
    "sio.savemat('../data/pred_image_semantics/imsem_test_ridge_new.mat', {'image_semantics_test_ridge_new':image_sem_test_ridge})"
   ]
  },
  {
   "cell_type": "code",
   "execution_count": null,
   "metadata": {
    "collapsed": true
   },
   "outputs": [],
   "source": []
  },
  {
   "cell_type": "code",
   "execution_count": 144,
   "metadata": {},
   "outputs": [
    {
     "data": {
      "text/plain": [
       "345"
      ]
     },
     "execution_count": 144,
     "metadata": {},
     "output_type": "execute_result"
    }
   ],
   "source": [
    "# Importing the h5 file\n",
    "hf = h5py.File('../data/pred_image_semantics/pred_ridge.h5', 'r')\n",
    "keys = list(hf.keys())\n",
    "len(keys)"
   ]
  },
  {
   "cell_type": "code",
   "execution_count": 145,
   "metadata": {
    "collapsed": true
   },
   "outputs": [],
   "source": [
    "new_list = []\n",
    "for imageid in keys:\n",
    "    index1 = image_stats.index[image_stats['image_id'] == imageid].tolist()[0]\n",
    "    category = image_stats.iloc[index1]['categories']\n",
    "    new_list.append([imageid, category])"
   ]
  },
  {
   "cell_type": "code",
   "execution_count": 146,
   "metadata": {
    "collapsed": true
   },
   "outputs": [],
   "source": [
    "df = pd.DataFrame.from_records(new_list, columns=['imageid','category'])"
   ]
  },
  {
   "cell_type": "code",
   "execution_count": 147,
   "metadata": {},
   "outputs": [
    {
     "data": {
      "text/html": [
       "<div>\n",
       "<style scoped>\n",
       "    .dataframe tbody tr th:only-of-type {\n",
       "        vertical-align: middle;\n",
       "    }\n",
       "\n",
       "    .dataframe tbody tr th {\n",
       "        vertical-align: top;\n",
       "    }\n",
       "\n",
       "    .dataframe thead th {\n",
       "        text-align: right;\n",
       "    }\n",
       "</style>\n",
       "<table border=\"1\" class=\"dataframe\">\n",
       "  <thead>\n",
       "    <tr style=\"text-align: right;\">\n",
       "      <th></th>\n",
       "      <th>imageid</th>\n",
       "      <th>category</th>\n",
       "    </tr>\n",
       "  </thead>\n",
       "  <tbody>\n",
       "    <tr>\n",
       "      <th>0</th>\n",
       "      <td>000000002061</td>\n",
       "      <td>toilet</td>\n",
       "    </tr>\n",
       "    <tr>\n",
       "      <th>1</th>\n",
       "      <td>000000003084</td>\n",
       "      <td>clock</td>\n",
       "    </tr>\n",
       "    <tr>\n",
       "      <th>2</th>\n",
       "      <td>000000005174</td>\n",
       "      <td>bus</td>\n",
       "    </tr>\n",
       "    <tr>\n",
       "      <th>3</th>\n",
       "      <td>000000008218</td>\n",
       "      <td>clock</td>\n",
       "    </tr>\n",
       "    <tr>\n",
       "      <th>4</th>\n",
       "      <td>000000014686</td>\n",
       "      <td>giraffe</td>\n",
       "    </tr>\n",
       "  </tbody>\n",
       "</table>\n",
       "</div>"
      ],
      "text/plain": [
       "        imageid category\n",
       "0  000000002061   toilet\n",
       "1  000000003084    clock\n",
       "2  000000005174      bus\n",
       "3  000000008218    clock\n",
       "4  000000014686  giraffe"
      ]
     },
     "execution_count": 147,
     "metadata": {},
     "output_type": "execute_result"
    }
   ],
   "source": [
    "df.head()"
   ]
  },
  {
   "cell_type": "code",
   "execution_count": 148,
   "metadata": {
    "collapsed": true
   },
   "outputs": [],
   "source": [
    "new_df = df.sort_values('category')"
   ]
  },
  {
   "cell_type": "code",
   "execution_count": 149,
   "metadata": {
    "collapsed": true
   },
   "outputs": [],
   "source": [
    "new_keys = new_df['imageid'].values"
   ]
  },
  {
   "cell_type": "code",
   "execution_count": 139,
   "metadata": {
    "collapsed": true
   },
   "outputs": [],
   "source": [
    "image_sem_pred_ridge = getImageSemantics(new_keys)"
   ]
  },
  {
   "cell_type": "code",
   "execution_count": 140,
   "metadata": {},
   "outputs": [
    {
     "data": {
      "text/plain": [
       "(2048, 345)"
      ]
     },
     "execution_count": 140,
     "metadata": {},
     "output_type": "execute_result"
    }
   ],
   "source": [
    "image_sem_pred_ridge.shape"
   ]
  },
  {
   "cell_type": "code",
   "execution_count": 141,
   "metadata": {
    "collapsed": true
   },
   "outputs": [],
   "source": [
    "sio.savemat('../data/pred_image_semantics/imsem_pred_ridge.mat', {'image_semantics_pred_ridge':image_sem_pred_ridge})"
   ]
  },
  {
   "cell_type": "code",
   "execution_count": null,
   "metadata": {
    "collapsed": true
   },
   "outputs": [],
   "source": []
  },
  {
   "cell_type": "code",
   "execution_count": null,
   "metadata": {
    "collapsed": true
   },
   "outputs": [],
   "source": []
  },
  {
   "cell_type": "markdown",
   "metadata": {},
   "source": [
    "# Make matlab file of train set and test_ridge set and pred_ridge"
   ]
  },
  {
   "cell_type": "code",
   "execution_count": 5,
   "metadata": {
    "collapsed": true
   },
   "outputs": [],
   "source": [
    "image_stats = pd.read_csv('../data/our_image_statistics.csv', dtype={'image_id': np.str})"
   ]
  },
  {
   "cell_type": "code",
   "execution_count": 6,
   "metadata": {
    "collapsed": true
   },
   "outputs": [],
   "source": [
    "def getImageSemantics(imageids):\n",
    "    imagesVectors = []\n",
    "    for i in imageids:\n",
    "        # Get the data\n",
    "        image = hf.get(i)\n",
    "        imageSemantics = np.array(image)\n",
    "        # Append to the list\n",
    "        imagesVectors.append(imageSemantics)\n",
    "\n",
    "    npImages = np.asarray(imagesVectors)\n",
    "    npImagesTrans = npImages.transpose()\n",
    "    \n",
    "    return npImagesTrans"
   ]
  },
  {
   "cell_type": "code",
   "execution_count": 5,
   "metadata": {
    "collapsed": true
   },
   "outputs": [],
   "source": [
    "#X_train = np.load('../data/pred_image_semantics/X_trainVal.npy')\n",
    "Y_train = np.load('../data/pred_image_semantics/Y_trainVal.npy')\n",
    "imageids_train = np.load('../data/pred_image_semantics/imageids_trainVal.npy')"
   ]
  },
  {
   "cell_type": "code",
   "execution_count": 7,
   "metadata": {
    "collapsed": true
   },
   "outputs": [],
   "source": [
    "new_list = []\n",
    "for imageid in imageids_train:\n",
    "    index1 = image_stats.index[image_stats['image_id'] == imageid].tolist()[0]\n",
    "    category = image_stats.iloc[index1]['categories']\n",
    "    new_list.append([imageid, category])"
   ]
  },
  {
   "cell_type": "code",
   "execution_count": 8,
   "metadata": {
    "collapsed": true
   },
   "outputs": [],
   "source": [
    "df = pd.DataFrame.from_records(new_list, columns=['imageid','category'])"
   ]
  },
  {
   "cell_type": "code",
   "execution_count": 9,
   "metadata": {
    "collapsed": true
   },
   "outputs": [],
   "source": [
    "new_df = df.sort_values('category')"
   ]
  },
  {
   "cell_type": "code",
   "execution_count": 14,
   "metadata": {
    "collapsed": true
   },
   "outputs": [],
   "source": [
    "new_keys = new_df['imageid'].values"
   ]
  },
  {
   "cell_type": "code",
   "execution_count": 15,
   "metadata": {},
   "outputs": [
    {
     "data": {
      "text/plain": [
       "9660"
      ]
     },
     "execution_count": 15,
     "metadata": {},
     "output_type": "execute_result"
    }
   ],
   "source": [
    "len(new_keys)"
   ]
  },
  {
   "cell_type": "code",
   "execution_count": 16,
   "metadata": {
    "collapsed": true
   },
   "outputs": [],
   "source": [
    "image_sem_train = getImageSemantics(new_keys)"
   ]
  },
  {
   "cell_type": "code",
   "execution_count": 17,
   "metadata": {
    "collapsed": true
   },
   "outputs": [],
   "source": [
    "sio.savemat('../data/pred_image_semantics/imsem_train.mat', {'image_semantics_train':image_sem_train})"
   ]
  },
  {
   "cell_type": "code",
   "execution_count": null,
   "metadata": {
    "collapsed": true
   },
   "outputs": [],
   "source": []
  },
  {
   "cell_type": "code",
   "execution_count": 15,
   "metadata": {},
   "outputs": [
    {
     "data": {
      "text/plain": [
       "345"
      ]
     },
     "execution_count": 15,
     "metadata": {},
     "output_type": "execute_result"
    }
   ],
   "source": [
    "# Importing the h5 file\n",
    "hf = h5py.File('../data/pred_image_semantics/pred_ridge.h5', 'r')\n",
    "keys = list(hf.keys())\n",
    "len(keys)"
   ]
  },
  {
   "cell_type": "code",
   "execution_count": 16,
   "metadata": {
    "collapsed": true
   },
   "outputs": [],
   "source": [
    "new_list = []\n",
    "for imageid in keys:\n",
    "    index1 = image_stats.index[image_stats['image_id'] == imageid].tolist()[0]\n",
    "    category = image_stats.iloc[index1]['categories']\n",
    "    new_list.append([imageid, category])"
   ]
  },
  {
   "cell_type": "code",
   "execution_count": 17,
   "metadata": {
    "collapsed": true
   },
   "outputs": [],
   "source": [
    "df = pd.DataFrame.from_records(new_list, columns=['imageid','category'])"
   ]
  },
  {
   "cell_type": "code",
   "execution_count": 18,
   "metadata": {
    "collapsed": true
   },
   "outputs": [],
   "source": [
    "new_df = df.sort_values('category')"
   ]
  },
  {
   "cell_type": "code",
   "execution_count": 19,
   "metadata": {
    "collapsed": true
   },
   "outputs": [],
   "source": [
    "new_keys = new_df['imageid'].values"
   ]
  },
  {
   "cell_type": "code",
   "execution_count": 20,
   "metadata": {},
   "outputs": [
    {
     "data": {
      "text/plain": [
       "345"
      ]
     },
     "execution_count": 20,
     "metadata": {},
     "output_type": "execute_result"
    }
   ],
   "source": [
    "len(new_keys)"
   ]
  },
  {
   "cell_type": "code",
   "execution_count": 21,
   "metadata": {
    "collapsed": true
   },
   "outputs": [],
   "source": [
    "imsem_test = getImageSemantics(new_keys)"
   ]
  },
  {
   "cell_type": "code",
   "execution_count": 22,
   "metadata": {
    "collapsed": true
   },
   "outputs": [],
   "source": [
    "sio.savemat('../data/pred_image_semantics/imsem_pred.mat', {'pred_imsem':imsem_test})"
   ]
  },
  {
   "cell_type": "code",
   "execution_count": null,
   "metadata": {
    "collapsed": true
   },
   "outputs": [],
   "source": []
  }
 ],
 "metadata": {
  "kernelspec": {
   "display_name": "Python 3",
   "language": "python",
   "name": "python3"
  },
  "language_info": {
   "codemirror_mode": {
    "name": "ipython",
    "version": 3
   },
   "file_extension": ".py",
   "mimetype": "text/x-python",
   "name": "python",
   "nbconvert_exporter": "python",
   "pygments_lexer": "ipython3",
   "version": "3.6.5"
  }
 },
 "nbformat": 4,
 "nbformat_minor": 2
}
