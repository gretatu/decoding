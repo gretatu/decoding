{
 "cells": [
  {
   "cell_type": "code",
   "execution_count": 2,
   "metadata": {},
   "outputs": [
    {
     "name": "stderr",
     "output_type": "stream",
     "text": [
      "C:\\Toolkits\\anaconda2-4.2.0\\envs\\tensorflow\\lib\\site-packages\\h5py\\__init__.py:34: FutureWarning: Conversion of the second argument of issubdtype from `float` to `np.floating` is deprecated. In future, it will be treated as `np.float64 == np.dtype(float).type`.\n",
      "  from ._conv import register_converters as _register_converters\n",
      "Using TensorFlow backend.\n"
     ]
    }
   ],
   "source": [
    "import sys\n",
    "from keras import applications\n",
    "import json\n",
    "from keras.models import Model, Sequential\n",
    "from keras.layers import Input, Flatten, Dense\n",
    "from keras import regularizers\n",
    "import numpy as np\n",
    "import h5py\n",
    "import pandas as pd\n",
    "\n",
    "sys.path.append(\"../\") # go to parent dir\n",
    "from mrcode.utils.file_utils import fileFinder, folderFinder\n",
    "from mrcode import settings\n",
    "from mrcode.preprocessing import experiment_data\n",
    "\n",
    "data_path, log_path, experiment_data_path, model_path = settings.path_init()\n",
    "\n",
    "# Loads the Inception-v3 final layer and creates a model from it\n",
    "def load_predictions_model():\n",
    "    model = applications.InceptionV3(include_top=True, weights='imagenet')\n",
    "    layer_name = 'predictions'\n",
    "\n",
    "    # Builds a model with output at the specified layer name\n",
    "    input_layer = Input(shape=(2048,))\n",
    "    output = model.get_layer(layer_name)(input_layer)\n",
    "    model1 = Model(inputs=input_layer, outputs=output)\n",
    "    return model1"
   ]
  },
  {
   "cell_type": "code",
   "execution_count": 3,
   "metadata": {},
   "outputs": [
    {
     "name": "stdout",
     "output_type": "stream",
     "text": [
      "============ Data Loaded ============\n",
      "X_train shape: (9660, 550, 32, 1)\n",
      "X_val shape: (345, 550, 32, 1)\n",
      "X_test shape: (345, 550, 32, 1)\n",
      "y_train shape: (9660, 1, 23)\n",
      "y_val shape: (345, 1, 23)\n",
      "y_test shape: (345, 1, 23)\n",
      "\n",
      "\n"
     ]
    }
   ],
   "source": [
    "from mrcode.utils.file_utils import folderFinder\n",
    "from keras.models import load_model\n",
    "\n",
    "\n",
    "\n",
    "def load_data():\n",
    "    X_train, y_train, X_test, y_test, X_val, y_val = experiment_data.load_data(load_mode='raw', apply_smote=False, cnn_ready=True)\n",
    "    return X_train, y_train, X_test, y_test, X_val, y_val\n",
    "\n",
    "\n",
    "# Getting the log path where result models are stored\n",
    "model_name1 = 'cnn_model_2d_1conv_drop05/normal'\n",
    "log_path1 = settings.log_path_init() + model_name1 + '/'\n",
    "\n",
    "# Load data\n",
    "X_train1, y_train1, X_test1, y_test1, X_val1, y_val1 = load_data()\n",
    "labels = folderFinder(settings.data_path_init() + '/images/')\n",
    "\n",
    "# Loading the model\n",
    "file_name = '2018.5.29_17.18.h5'\n",
    "model1 = load_model(log_path1 + file_name)"
   ]
  },
  {
   "cell_type": "code",
   "execution_count": null,
   "metadata": {
    "collapsed": true
   },
   "outputs": [],
   "source": [
    "intermediate_layer_model.get_weights"
   ]
  },
  {
   "cell_type": "code",
   "execution_count": 23,
   "metadata": {},
   "outputs": [
    {
     "name": "stdout",
     "output_type": "stream",
     "text": [
      "_________________________________________________________________\n",
      "Layer (type)                 Output Shape              Param #   \n",
      "=================================================================\n",
      "conv1 (Conv2D)               (None, 275, 32, 64)       384       \n",
      "_________________________________________________________________\n",
      "batch_norm1 (BatchNormalizat (None, 275, 32, 64)       256       \n",
      "_________________________________________________________________\n",
      "relu1 (Activation)           (None, 275, 32, 64)       0         \n",
      "_________________________________________________________________\n",
      "dropout1 (Dropout)           (None, 275, 32, 64)       0         \n",
      "_________________________________________________________________\n",
      "conv2 (Conv2D)               (None, 138, 16, 128)      8320      \n",
      "_________________________________________________________________\n",
      "batch_norm2 (BatchNormalizat (None, 138, 16, 128)      512       \n",
      "_________________________________________________________________\n",
      "relu2 (Activation)           (None, 138, 16, 128)      0         \n",
      "_________________________________________________________________\n",
      "dropout2 (Dropout)           (None, 138, 16, 128)      0         \n",
      "_________________________________________________________________\n",
      "conv3 (Conv2D)               (None, 138, 16, 128)      147584    \n",
      "_________________________________________________________________\n",
      "batch_norm3 (BatchNormalizat (None, 138, 16, 128)      512       \n",
      "_________________________________________________________________\n",
      "relu3 (Activation)           (None, 138, 16, 128)      0         \n",
      "_________________________________________________________________\n",
      "dropout3 (Dropout)           (None, 138, 16, 128)      0         \n",
      "_________________________________________________________________\n",
      "conv4 (Conv2D)               (None, 69, 8, 256)        33024     \n",
      "_________________________________________________________________\n",
      "batch_norm4 (BatchNormalizat (None, 69, 8, 256)        1024      \n",
      "_________________________________________________________________\n",
      "relu4 (Activation)           (None, 69, 8, 256)        0         \n",
      "_________________________________________________________________\n",
      "dropout4 (Dropout)           (None, 69, 8, 256)        0         \n",
      "_________________________________________________________________\n",
      "conv5 (Conv2D)               (None, 69, 8, 256)        590080    \n",
      "_________________________________________________________________\n",
      "batch_norm5 (BatchNormalizat (None, 69, 8, 256)        1024      \n",
      "_________________________________________________________________\n",
      "relu5 (Activation)           (None, 69, 8, 256)        0         \n",
      "_________________________________________________________________\n",
      "dropout5 (Dropout)           (None, 69, 8, 256)        0         \n",
      "_________________________________________________________________\n",
      "conv6 (Conv2D)               (None, 35, 4, 512)        131584    \n",
      "_________________________________________________________________\n",
      "batch_norm6 (BatchNormalizat (None, 35, 4, 512)        2048      \n",
      "_________________________________________________________________\n",
      "relu6 (Activation)           (None, 35, 4, 512)        0         \n",
      "_________________________________________________________________\n",
      "dropout6 (Dropout)           (None, 35, 4, 512)        0         \n",
      "_________________________________________________________________\n",
      "conv7 (Conv2D)               (None, 35, 4, 512)        2359808   \n",
      "_________________________________________________________________\n",
      "batch_norm7 (BatchNormalizat (None, 35, 4, 512)        2048      \n",
      "_________________________________________________________________\n",
      "relu7 (Activation)           (None, 35, 4, 512)        0         \n",
      "_________________________________________________________________\n",
      "dropout7 (Dropout)           (None, 35, 4, 512)        0         \n",
      "_________________________________________________________________\n",
      "conv8 (Conv2D)               (None, 18, 2, 1024)       525312    \n",
      "_________________________________________________________________\n",
      "batch_norm8 (BatchNormalizat (None, 18, 2, 1024)       4096      \n",
      "_________________________________________________________________\n",
      "relu8 (Activation)           (None, 18, 2, 1024)       0         \n",
      "_________________________________________________________________\n",
      "dropout8 (Dropout)           (None, 18, 2, 1024)       0         \n",
      "_________________________________________________________________\n",
      "conv9 (Conv2D)               (None, 18, 2, 1024)       9438208   \n",
      "_________________________________________________________________\n",
      "batch_norm9 (BatchNormalizat (None, 18, 2, 1024)       4096      \n",
      "_________________________________________________________________\n",
      "relu9 (Activation)           (None, 18, 2, 1024)       0         \n",
      "_________________________________________________________________\n",
      "dropout9 (Dropout)           (None, 18, 2, 1024)       0         \n",
      "_________________________________________________________________\n",
      "conv10 (Conv2D)              (None, 9, 1, 1024)        1049600   \n",
      "_________________________________________________________________\n",
      "batch_norm10 (BatchNormaliza (None, 9, 1, 1024)        4096      \n",
      "_________________________________________________________________\n",
      "relu10 (Activation)          (None, 9, 1, 1024)        0         \n",
      "_________________________________________________________________\n",
      "dropout10 (Dropout)          (None, 9, 1, 1024)        0         \n",
      "_________________________________________________________________\n",
      "average_pooling2d_1 (Average (None, 1, 1, 1024)        0         \n",
      "_________________________________________________________________\n",
      "flatten_1 (Flatten)          (None, 1024)              0         \n",
      "_________________________________________________________________\n",
      "reshape_1 (Reshape)          (None, 1, 1024)           0         \n",
      "_________________________________________________________________\n",
      "dense (Dense)                (None, 1, 23)             23575     \n",
      "_________________________________________________________________\n",
      "batch_norm11 (BatchNormaliza (None, 1, 23)             92        \n",
      "_________________________________________________________________\n",
      "Softmax (Activation)         (None, 1, 23)             0         \n",
      "=================================================================\n",
      "Total params: 14,327,283\n",
      "Trainable params: 14,317,381\n",
      "Non-trainable params: 9,902\n",
      "_________________________________________________________________\n"
     ]
    },
    {
     "data": {
      "text/plain": [
       "(345, 138, 16, 128)"
      ]
     },
     "execution_count": 23,
     "metadata": {},
     "output_type": "execute_result"
    }
   ],
   "source": [
    "model1.summary()\n",
    "\n",
    "layer_name = 'relu3'\n",
    "\n",
    "# Builds a model with output at the specified layer name\n",
    "intermediate_layer_model = Model(inputs=model1.input,\n",
    "                                     outputs=model1.get_layer(layer_name).output)\n",
    "predictions1 = intermediate_layer_model.predict(X_test1, batch_size=32)\n",
    "predictions1.shape"
   ]
  },
  {
   "cell_type": "code",
   "execution_count": 24,
   "metadata": {},
   "outputs": [
    {
     "data": {
      "image/png": "[encoded data removed]",
      "text/plain": [
       "<matplotlib.figure.Figure at 0x1f655df8cc0>"
      ]
     },
     "metadata": {},
     "output_type": "display_data"
    }
   ],
   "source": [
    "import matplotlib.pyplot as plt\n",
    "plt.imshow(np.transpose(np.mean(predictions1[:, :, :, 31],0)), aspect='auto')\n",
    "#plt.plot(predictions1[0, :, 0, :])\n",
    "plt.show()"
   ]
  }
 ],
 "metadata": {
  "kernelspec": {
   "display_name": "Python 3",
   "language": "python",
   "name": "python3"
  },
  "language_info": {
   "codemirror_mode": {
    "name": "ipython",
    "version": 3
   },
   "file_extension": ".py",
   "mimetype": "text/x-python",
   "name": "python",
   "nbconvert_exporter": "python",
   "pygments_lexer": "ipython3",
   "version": "3.5.4"
  }
 },
 "nbformat": 4,
 "nbformat_minor": 2
}
