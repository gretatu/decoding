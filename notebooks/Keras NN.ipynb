{
 "cells": [
  {
   "cell_type": "markdown",
   "metadata": {},
   "source": [
    "## Import modules"
   ]
  },
  {
   "cell_type": "code",
   "execution_count": 2,
   "metadata": {},
   "outputs": [],
   "source": [
    "from __future__ import absolute_import\n",
    "# Imports\n",
    "import scipy.io as sio\n",
    "from sklearn import linear_model\n",
    "import numpy as np\n",
    "\n",
    "# import required libraries\n",
    "import matplotlib.pyplot as plt\n",
    "import sys\n",
    "import numpy as np\n",
    "from keras.models import Model, Sequential\n",
    "from keras.layers import Dense, TimeDistributed, Dropout, RepeatVector, LSTM, concatenate, Embedding, Input, BatchNormalization\n",
    "from keras.layers.core import Activation\n",
    "from keras import metrics, regularizers\n",
    "import pickle\n",
    "import scipy\n",
    "import pandas as pd\n",
    "import tensorflow as tf\n",
    "from sklearn.preprocessing import StandardScaler\n",
    "from sklearn.linear_model import RidgeClassifierCV,LogisticRegressionCV, LogisticRegression\n",
    "from sklearn.metrics import confusion_matrix\n",
    "\n",
    "import itertools\n",
    "\n",
    "sys.path.append(\"../\") # go to parent dir\n",
    "from mrcode.utils.file_utils import fileFinder, folderFinder\n",
    "from mrcode import settings"
   ]
  },
  {
   "cell_type": "markdown",
   "metadata": {},
   "source": [
    "## Load data"
   ]
  },
  {
   "cell_type": "code",
   "execution_count": 3,
   "metadata": {},
   "outputs": [],
   "source": [
    "def std_windows(eeg, time_window = 50):\n",
    "    temp_eeg = []\n",
    "    for ii in range(eeg.shape[0]):\n",
    "        temp_epoch = eeg[ii,:,:]\n",
    "        temp_eeg.append(np.std(temp_epoch.reshape(int(temp_epoch.shape[0]/time_window),time_window,temp_epoch.shape[1]),1).flatten())\n",
    "    std_eeg = np.array(temp_eeg)\n",
    "    return std_eeg\n",
    "\n",
    "def std_overlap_windows(eeg, time_window = 80, overlap = 0.5):\n",
    "    temp_eeg = []\n",
    "    for ii in range(eeg.shape[0]):\n",
    "        temp_epoch = eeg[ii,:,:]\n",
    "        std_channels = []\n",
    "        for jj in range(temp_epoch.shape[1]):\n",
    "            channel = temp_epoch[:,jj]\n",
    "\n",
    "            std_channel = []\n",
    "            for kk in range(int(time_window*overlap)):\n",
    "                std_channel.append(channel[kk:(kk+time_window)])\n",
    "\n",
    "            std_channels.append(np.std(std_channel,1))\n",
    "\n",
    "        temp_eeg.append(std_channels)\n",
    "        \n",
    "    temp_eeg_array = np.array(temp_eeg)\n",
    "    std_temp_eeg = temp_eeg_array.reshape(temp_eeg_array.shape[0],temp_eeg_array.shape[2]*temp_eeg_array.shape[1])\n",
    "    return std_temp_eeg\n",
    "\n",
    "def load_data(ii,data_path,feature = 'raw'):\n",
    "    data = sio.loadmat(data_path + '/' + ii + '/eeg_events.mat')\n",
    "    eeg = data['eeg_events'].transpose()\n",
    "    \n",
    "    if feature == 'raw':\n",
    "        eeg = eeg.reshape(eeg.shape[0],eeg.shape[2]*eeg.shape[1])\n",
    "    \n",
    "    if feature == 'std':\n",
    "        eeg = std_windows(eeg)\n",
    "        \n",
    "    if feature == 'std_overlap':\n",
    "        eeg = std_overlap_windows(eeg)\n",
    "                  \n",
    "    image_info = pd.read_csv(data_path + '/' + ii + '/image_order.txt', delimiter='\\t')\n",
    "    return eeg, image_info\n",
    "\n",
    "\n",
    "data_path = '../data/experiment_data'\n",
    "experiment_folders = folderFinder(data_path)\n",
    "X_train_temp = []\n",
    "y_train_temp = []\n",
    "target = 'category'\n",
    "loadmode = 'raw'\n",
    "classmode = '' # If animal remember to set target above as supercategory\n",
    "for count_sources, ii in enumerate(experiment_folders):\n",
    "    \n",
    "    if count_sources == 0:\n",
    "        eeg, image_info = load_data(ii,data_path, feature = loadmode)\n",
    "        X_train_temp = eeg\n",
    "        y_train_temp = list(image_info[target].as_matrix())\n",
    "    \n",
    "    elif count_sources > 0:\n",
    "        eeg, image_info = load_data(ii,data_path, feature = loadmode)\n",
    "        X_train_temp = np.vstack((X_train_temp,eeg))\n",
    "        y_train_temp = np.hstack((y_train_temp,list(image_info[target].as_matrix())))\n",
    "    \n",
    "b = range(20,690*len(experiment_folders),30)\n",
    "y = pd.get_dummies(y_train_temp)\n",
    "if classmode == 'animal':\n",
    "    #Getting only classes animal and nonanimal\n",
    "    y['nonanimal'] = y.iloc[:,1:6].sum(axis=1)\n",
    "    y = y.drop(columns=['food','furniture','indoor','outdoor','vehicle'])\n",
    "y_classes = list(y.columns.values)\n",
    "y_train = np.array(y)\n",
    "y_test = y_train[b,:]\n",
    "y_train = np.delete(y_train,b,0)"
   ]
  },
  {
   "cell_type": "markdown",
   "metadata": {},
   "source": [
    "Calculate the percentage of each classes"
   ]
  },
  {
   "cell_type": "code",
   "execution_count": 4,
   "metadata": {},
   "outputs": [
    {
     "data": {
      "text/plain": [
       "airplane      0.043478\n",
       "bear          0.043478\n",
       "bed           0.043478\n",
       "bench         0.043478\n",
       "bird          0.043478\n",
       "boat          0.043478\n",
       "bus           0.043478\n",
       "cat           0.043478\n",
       "clock         0.043478\n",
       "cow           0.043478\n",
       "dog           0.043478\n",
       "donut         0.043478\n",
       "elephant      0.043478\n",
       "giraffe       0.043478\n",
       "horse         0.043478\n",
       "motorcycle    0.043478\n",
       "pizza         0.043478\n",
       "sheep         0.043478\n",
       "stop sign     0.043478\n",
       "teddy bear    0.043478\n",
       "toilet        0.043478\n",
       "train         0.043478\n",
       "zebra         0.043478\n",
       "dtype: float64"
      ]
     },
     "execution_count": 4,
     "metadata": {},
     "output_type": "execute_result"
    }
   ],
   "source": [
    "y.sum()/sum(y.sum())"
   ]
  },
  {
   "cell_type": "markdown",
   "metadata": {},
   "source": [
    "## Scale the data"
   ]
  },
  {
   "cell_type": "code",
   "execution_count": 5,
   "metadata": {},
   "outputs": [
    {
     "name": "stdout",
     "output_type": "stream",
     "text": [
      "(10005, 17600)\n",
      "(10005, 23)\n",
      "(345, 17600)\n",
      "(345, 23)\n"
     ]
    }
   ],
   "source": [
    "# Normalize data\n",
    "xScale = StandardScaler().fit(X_train_temp)\n",
    "X_train_temp = xScale.transform(X_train_temp)\n",
    "\n",
    "# Split data \n",
    "X_test = X_train_temp[b,:]\n",
    "X_train = np.delete(X_train_temp,b,0)\n",
    "\n",
    "# Printing shape of data\n",
    "print(X_train.shape)\n",
    "print(y_train.shape)\n",
    "print(X_test.shape)\n",
    "print(y_test.shape)"
   ]
  },
  {
   "cell_type": "markdown",
   "metadata": {},
   "source": [
    "## Neural network"
   ]
  },
  {
   "cell_type": "code",
   "execution_count": 9,
   "metadata": {
    "collapsed": true
   },
   "outputs": [],
   "source": [
    "model = Sequential()\n",
    "model.add(Dense(200, activation='relu', name='first_dense', kernel_initializer='he_normal', input_shape=(X_train.shape[1],)))\n",
    "model.add(Dropout(0.3))\n",
    "model.add(BatchNormalization())\n",
    "model.add(Dense(100, activation='relu', name='second_dense', kernel_initializer='he_normal'))\n",
    "model.add(Dropout(0.3))\n",
    "model.add(BatchNormalization())\n",
    "model.add(Dense(y_train.shape[1], activation='relu', name='third_dense', kernel_initializer='he_normal'))\n",
    "\n",
    "model.add(Activation('softmax', name='Softmax'))\n",
    "model.compile(loss='categorical_crossentropy', optimizer='sgd', metrics=['accuracy'])"
   ]
  },
  {
   "cell_type": "code",
   "execution_count": 7,
   "metadata": {},
   "outputs": [
    {
     "name": "stdout",
     "output_type": "stream",
     "text": [
      "_________________________________________________________________\n",
      "Layer (type)                 Output Shape              Param #   \n",
      "=================================================================\n",
      "first_dense (Dense)          (None, 200)               3520200   \n",
      "_________________________________________________________________\n",
      "dropout_1 (Dropout)          (None, 200)               0         \n",
      "_________________________________________________________________\n",
      "batch_normalization_1 (Batch (None, 200)               800       \n",
      "_________________________________________________________________\n",
      "second_dense (Dense)         (None, 100)               20100     \n",
      "_________________________________________________________________\n",
      "dropout_2 (Dropout)          (None, 100)               0         \n",
      "_________________________________________________________________\n",
      "batch_normalization_2 (Batch (None, 100)               400       \n",
      "_________________________________________________________________\n",
      "third_dense (Dense)          (None, 23)                2323      \n",
      "_________________________________________________________________\n",
      "Softmax (Activation)         (None, 23)                0         \n",
      "=================================================================\n",
      "Total params: 3,543,823\n",
      "Trainable params: 3,543,223\n",
      "Non-trainable params: 600\n",
      "_________________________________________________________________\n"
     ]
    }
   ],
   "source": [
    "model.summary()"
   ]
  },
  {
   "cell_type": "markdown",
   "metadata": {},
   "source": [
    "## Use Keras to perform linear classification"
   ]
  },
  {
   "cell_type": "code",
   "execution_count": 5,
   "metadata": {},
   "outputs": [],
   "source": [
    "model = Sequential()\n",
    "model.add(Dense(23, activation='linear', kernel_regularizer=regularizers.l2(0.5), name='first_dense', kernel_initializer='he_normal', input_shape=(X_train.shape[1],)))\n",
    "model.add(Activation('softmax', name='Softmax'))\n",
    "model.compile(loss='categorical_crossentropy', optimizer='sgd', metrics=['accuracy'])"
   ]
  },
  {
   "cell_type": "code",
   "execution_count": 6,
   "metadata": {},
   "outputs": [
    {
     "name": "stdout",
     "output_type": "stream",
     "text": [
      "_________________________________________________________________\n",
      "Layer (type)                 Output Shape              Param #   \n",
      "=================================================================\n",
      "first_dense (Dense)          (None, 23)                404823    \n",
      "_________________________________________________________________\n",
      "Softmax (Activation)         (None, 23)                0         \n",
      "=================================================================\n",
      "Total params: 404,823\n",
      "Trainable params: 404,823\n",
      "Non-trainable params: 0\n",
      "_________________________________________________________________\n"
     ]
    }
   ],
   "source": [
    "model.summary()"
   ]
  },
  {
   "cell_type": "code",
   "execution_count": 7,
   "metadata": {
    "scrolled": false
   },
   "outputs": [
    {
     "name": "stdout",
     "output_type": "stream",
     "text": [
      "Train on 10005 samples, validate on 345 samples\n",
      "Epoch 1/50\n",
      "10005/10005 [==============================] - 9s 926us/step - loss: 6.9153 - acc: 0.0564 - val_loss: 3.9225 - val_acc: 0.0725\n",
      "Epoch 2/50\n",
      "10005/10005 [==============================] - 5s 503us/step - loss: 4.0428 - acc: 0.0698 - val_loss: 4.1708 - val_acc: 0.0754\n",
      "Epoch 3/50\n",
      "10005/10005 [==============================] - 5s 513us/step - loss: 4.0309 - acc: 0.0691 - val_loss: 3.9205 - val_acc: 0.0783\n",
      "Epoch 4/50\n",
      "10005/10005 [==============================] - 5s 522us/step - loss: 4.0830 - acc: 0.0632 - val_loss: 3.8056 - val_acc: 0.0783\n",
      "Epoch 5/50\n",
      "10005/10005 [==============================] - 5s 515us/step - loss: 4.0373 - acc: 0.0692 - val_loss: 4.2058 - val_acc: 0.0522\n",
      "Epoch 6/50\n",
      "10005/10005 [==============================] - 5s 508us/step - loss: 4.0237 - acc: 0.0742 - val_loss: 4.0418 - val_acc: 0.0493\n",
      "Epoch 7/50\n",
      "10005/10005 [==============================] - 5s 507us/step - loss: 4.1652 - acc: 0.0662 - val_loss: 3.8881 - val_acc: 0.0696\n",
      "Epoch 8/50\n",
      "10005/10005 [==============================] - 5s 495us/step - loss: 4.1299 - acc: 0.0672 - val_loss: 4.0341 - val_acc: 0.0667\n",
      "Epoch 9/50\n",
      "10005/10005 [==============================] - 5s 518us/step - loss: 4.0502 - acc: 0.0729 - val_loss: 3.9917 - val_acc: 0.0435\n",
      "Epoch 10/50\n",
      "10005/10005 [==============================] - 5s 497us/step - loss: 4.0743 - acc: 0.0664 - val_loss: 4.2643 - val_acc: 0.0522\n",
      "Epoch 11/50\n",
      "10005/10005 [==============================] - 5s 502us/step - loss: 4.0668 - acc: 0.0694 - val_loss: 4.1985 - val_acc: 0.0638\n",
      "Epoch 12/50\n",
      "10005/10005 [==============================] - 5s 493us/step - loss: 4.0809 - acc: 0.0667 - val_loss: 3.9892 - val_acc: 0.0580\n",
      "Epoch 13/50\n",
      "10005/10005 [==============================] - 5s 497us/step - loss: 4.0810 - acc: 0.0704 - val_loss: 4.1863 - val_acc: 0.0551\n",
      "Epoch 14/50\n",
      "10005/10005 [==============================] - 5s 528us/step - loss: 4.0509 - acc: 0.0681 - val_loss: 3.9231 - val_acc: 0.0638\n",
      "Epoch 15/50\n",
      "10005/10005 [==============================] - 5s 490us/step - loss: 4.0799 - acc: 0.0660 - val_loss: 4.0636 - val_acc: 0.0638\n",
      "Epoch 16/50\n",
      "10005/10005 [==============================] - 5s 498us/step - loss: 4.0647 - acc: 0.0687 - val_loss: 4.0218 - val_acc: 0.0464\n",
      "Epoch 17/50\n",
      "10005/10005 [==============================] - 5s 497us/step - loss: 3.9801 - acc: 0.0699 - val_loss: 3.9985 - val_acc: 0.0609\n",
      "Epoch 18/50\n",
      "10005/10005 [==============================] - 5s 498us/step - loss: 4.0483 - acc: 0.0715 - val_loss: 3.8620 - val_acc: 0.0667\n",
      "Epoch 19/50\n",
      "10005/10005 [==============================] - 5s 503us/step - loss: 4.0985 - acc: 0.0694 - val_loss: 4.0466 - val_acc: 0.0696\n",
      "Epoch 20/50\n",
      "10005/10005 [==============================] - 5s 501us/step - loss: 4.0179 - acc: 0.0699 - val_loss: 4.1862 - val_acc: 0.0609\n",
      "Epoch 21/50\n",
      "10005/10005 [==============================] - 5s 486us/step - loss: 4.1261 - acc: 0.0672 - val_loss: 3.8934 - val_acc: 0.0522\n",
      "Epoch 22/50\n",
      "10005/10005 [==============================] - 5s 541us/step - loss: 4.1057 - acc: 0.0701 - val_loss: 3.9731 - val_acc: 0.0667\n",
      "Epoch 23/50\n",
      "10005/10005 [==============================] - 5s 483us/step - loss: 4.0926 - acc: 0.0676 - val_loss: 3.9474 - val_acc: 0.0609\n",
      "Epoch 24/50\n",
      "10005/10005 [==============================] - 5s 528us/step - loss: 4.1482 - acc: 0.0706 - val_loss: 4.1311 - val_acc: 0.0812\n",
      "Epoch 25/50\n",
      "10005/10005 [==============================] - 5s 549us/step - loss: 4.0219 - acc: 0.0679 - val_loss: 4.0574 - val_acc: 0.0609\n",
      "Epoch 26/50\n",
      "10005/10005 [==============================] - 6s 551us/step - loss: 4.2705 - acc: 0.0679 - val_loss: 4.2513 - val_acc: 0.0319\n",
      "Epoch 27/50\n",
      "10005/10005 [==============================] - 6s 571us/step - loss: 4.0441 - acc: 0.0697 - val_loss: 3.8688 - val_acc: 0.0435\n",
      "Epoch 28/50\n",
      "10005/10005 [==============================] - 5s 499us/step - loss: 4.0497 - acc: 0.0659 - val_loss: 4.1291 - val_acc: 0.0551\n",
      "Epoch 29/50\n",
      "10005/10005 [==============================] - 5s 541us/step - loss: 4.0557 - acc: 0.0659 - val_loss: 4.0006 - val_acc: 0.0754\n",
      "Epoch 30/50\n",
      "10005/10005 [==============================] - 5s 493us/step - loss: 4.1102 - acc: 0.0643 - val_loss: 3.9982 - val_acc: 0.0870\n",
      "Epoch 31/50\n",
      "10005/10005 [==============================] - 5s 537us/step - loss: 4.0310 - acc: 0.0663 - val_loss: 3.8437 - val_acc: 0.0609\n",
      "Epoch 32/50\n",
      "10005/10005 [==============================] - 5s 505us/step - loss: 4.1317 - acc: 0.0682 - val_loss: 4.0050 - val_acc: 0.0696\n",
      "Epoch 33/50\n",
      "10005/10005 [==============================] - 5s 541us/step - loss: 4.0863 - acc: 0.0666 - val_loss: 4.0613 - val_acc: 0.0696\n",
      "Epoch 34/50\n",
      "10005/10005 [==============================] - 6s 563us/step - loss: 4.1060 - acc: 0.0680 - val_loss: 4.1130 - val_acc: 0.0638\n",
      "Epoch 35/50\n",
      "10005/10005 [==============================] - 6s 552us/step - loss: 4.0652 - acc: 0.0707 - val_loss: 4.0895 - val_acc: 0.0638\n",
      "Epoch 36/50\n",
      "10005/10005 [==============================] - 5s 518us/step - loss: 4.0751 - acc: 0.0666 - val_loss: 3.9695 - val_acc: 0.0638\n",
      "Epoch 37/50\n",
      "10005/10005 [==============================] - 5s 504us/step - loss: 4.0572 - acc: 0.0687 - val_loss: 3.9039 - val_acc: 0.0638\n",
      "Epoch 38/50\n",
      "10005/10005 [==============================] - 5s 478us/step - loss: 4.0378 - acc: 0.0742 - val_loss: 4.1121 - val_acc: 0.0551\n",
      "Epoch 39/50\n",
      "10005/10005 [==============================] - 5s 504us/step - loss: 4.0549 - acc: 0.0677 - val_loss: 4.7261 - val_acc: 0.0522\n",
      "Epoch 40/50\n",
      "10005/10005 [==============================] - 5s 485us/step - loss: 4.1005 - acc: 0.0687 - val_loss: 4.2089 - val_acc: 0.0522\n",
      "Epoch 41/50\n",
      " 5056/10005 [==============>...............] - ETA: 2s - loss: 4.0569 - acc: 0.0738"
     ]
    },
    {
     "ename": "KeyboardInterrupt",
     "evalue": "",
     "output_type": "error",
     "traceback": [
      "\u001b[1;31m---------------------------------------------------------------------------\u001b[0m",
      "\u001b[1;31mKeyboardInterrupt\u001b[0m                         Traceback (most recent call last)",
      "\u001b[1;32m<ipython-input-7-70ae6acd9b43>\u001b[0m in \u001b[0;36m<module>\u001b[1;34m()\u001b[0m\n\u001b[0;32m      1\u001b[0m \u001b[0mbatch_size\u001b[0m \u001b[1;33m=\u001b[0m \u001b[1;36m32\u001b[0m\u001b[1;33m\u001b[0m\u001b[0m\n\u001b[0;32m      2\u001b[0m \u001b[0mepochs\u001b[0m \u001b[1;33m=\u001b[0m \u001b[1;36m50\u001b[0m\u001b[1;33m\u001b[0m\u001b[0m\n\u001b[1;32m----> 3\u001b[1;33m \u001b[0mhistory\u001b[0m \u001b[1;33m=\u001b[0m \u001b[0mmodel\u001b[0m\u001b[1;33m.\u001b[0m\u001b[0mfit\u001b[0m\u001b[1;33m(\u001b[0m\u001b[0mX_train\u001b[0m\u001b[1;33m,\u001b[0m \u001b[0my_train\u001b[0m\u001b[1;33m,\u001b[0m \u001b[0mepochs\u001b[0m\u001b[1;33m=\u001b[0m\u001b[0mepochs\u001b[0m\u001b[1;33m,\u001b[0m \u001b[0mbatch_size\u001b[0m\u001b[1;33m=\u001b[0m\u001b[0mbatch_size\u001b[0m\u001b[1;33m,\u001b[0m \u001b[0mshuffle\u001b[0m\u001b[1;33m=\u001b[0m\u001b[1;32mTrue\u001b[0m\u001b[1;33m,\u001b[0m \u001b[0mvalidation_data\u001b[0m\u001b[1;33m=\u001b[0m\u001b[1;33m(\u001b[0m\u001b[0mX_test\u001b[0m\u001b[1;33m,\u001b[0m \u001b[0my_test\u001b[0m\u001b[1;33m)\u001b[0m\u001b[1;33m)\u001b[0m\u001b[1;33m\u001b[0m\u001b[0m\n\u001b[0m",
      "\u001b[1;32mc:\\users\\dea\\anaconda3\\envs\\tensorflowgpu\\lib\\site-packages\\keras\\models.py\u001b[0m in \u001b[0;36mfit\u001b[1;34m(self, x, y, batch_size, epochs, verbose, callbacks, validation_split, validation_data, shuffle, class_weight, sample_weight, initial_epoch, steps_per_epoch, validation_steps, **kwargs)\u001b[0m\n\u001b[0;32m    961\u001b[0m                               \u001b[0minitial_epoch\u001b[0m\u001b[1;33m=\u001b[0m\u001b[0minitial_epoch\u001b[0m\u001b[1;33m,\u001b[0m\u001b[1;33m\u001b[0m\u001b[0m\n\u001b[0;32m    962\u001b[0m                               \u001b[0msteps_per_epoch\u001b[0m\u001b[1;33m=\u001b[0m\u001b[0msteps_per_epoch\u001b[0m\u001b[1;33m,\u001b[0m\u001b[1;33m\u001b[0m\u001b[0m\n\u001b[1;32m--> 963\u001b[1;33m                               validation_steps=validation_steps)\n\u001b[0m\u001b[0;32m    964\u001b[0m \u001b[1;33m\u001b[0m\u001b[0m\n\u001b[0;32m    965\u001b[0m     def evaluate(self, x=None, y=None,\n",
      "\u001b[1;32mc:\\users\\dea\\anaconda3\\envs\\tensorflowgpu\\lib\\site-packages\\keras\\engine\\training.py\u001b[0m in \u001b[0;36mfit\u001b[1;34m(self, x, y, batch_size, epochs, verbose, callbacks, validation_split, validation_data, shuffle, class_weight, sample_weight, initial_epoch, steps_per_epoch, validation_steps, **kwargs)\u001b[0m\n\u001b[0;32m   1703\u001b[0m                               \u001b[0minitial_epoch\u001b[0m\u001b[1;33m=\u001b[0m\u001b[0minitial_epoch\u001b[0m\u001b[1;33m,\u001b[0m\u001b[1;33m\u001b[0m\u001b[0m\n\u001b[0;32m   1704\u001b[0m                               \u001b[0msteps_per_epoch\u001b[0m\u001b[1;33m=\u001b[0m\u001b[0msteps_per_epoch\u001b[0m\u001b[1;33m,\u001b[0m\u001b[1;33m\u001b[0m\u001b[0m\n\u001b[1;32m-> 1705\u001b[1;33m                               validation_steps=validation_steps)\n\u001b[0m\u001b[0;32m   1706\u001b[0m \u001b[1;33m\u001b[0m\u001b[0m\n\u001b[0;32m   1707\u001b[0m     def evaluate(self, x=None, y=None,\n",
      "\u001b[1;32mc:\\users\\dea\\anaconda3\\envs\\tensorflowgpu\\lib\\site-packages\\keras\\engine\\training.py\u001b[0m in \u001b[0;36m_fit_loop\u001b[1;34m(self, f, ins, out_labels, batch_size, epochs, verbose, callbacks, val_f, val_ins, shuffle, callback_metrics, initial_epoch, steps_per_epoch, validation_steps)\u001b[0m\n\u001b[0;32m   1233\u001b[0m                         \u001b[0mins_batch\u001b[0m\u001b[1;33m[\u001b[0m\u001b[0mi\u001b[0m\u001b[1;33m]\u001b[0m \u001b[1;33m=\u001b[0m \u001b[0mins_batch\u001b[0m\u001b[1;33m[\u001b[0m\u001b[0mi\u001b[0m\u001b[1;33m]\u001b[0m\u001b[1;33m.\u001b[0m\u001b[0mtoarray\u001b[0m\u001b[1;33m(\u001b[0m\u001b[1;33m)\u001b[0m\u001b[1;33m\u001b[0m\u001b[0m\n\u001b[0;32m   1234\u001b[0m \u001b[1;33m\u001b[0m\u001b[0m\n\u001b[1;32m-> 1235\u001b[1;33m                     \u001b[0mouts\u001b[0m \u001b[1;33m=\u001b[0m \u001b[0mf\u001b[0m\u001b[1;33m(\u001b[0m\u001b[0mins_batch\u001b[0m\u001b[1;33m)\u001b[0m\u001b[1;33m\u001b[0m\u001b[0m\n\u001b[0m\u001b[0;32m   1236\u001b[0m                     \u001b[1;32mif\u001b[0m \u001b[1;32mnot\u001b[0m \u001b[0misinstance\u001b[0m\u001b[1;33m(\u001b[0m\u001b[0mouts\u001b[0m\u001b[1;33m,\u001b[0m \u001b[0mlist\u001b[0m\u001b[1;33m)\u001b[0m\u001b[1;33m:\u001b[0m\u001b[1;33m\u001b[0m\u001b[0m\n\u001b[0;32m   1237\u001b[0m                         \u001b[0mouts\u001b[0m \u001b[1;33m=\u001b[0m \u001b[1;33m[\u001b[0m\u001b[0mouts\u001b[0m\u001b[1;33m]\u001b[0m\u001b[1;33m\u001b[0m\u001b[0m\n",
      "\u001b[1;32mc:\\users\\dea\\anaconda3\\envs\\tensorflowgpu\\lib\\site-packages\\keras\\backend\\tensorflow_backend.py\u001b[0m in \u001b[0;36m__call__\u001b[1;34m(self, inputs)\u001b[0m\n\u001b[0;32m   2476\u001b[0m         \u001b[0msession\u001b[0m \u001b[1;33m=\u001b[0m \u001b[0mget_session\u001b[0m\u001b[1;33m(\u001b[0m\u001b[1;33m)\u001b[0m\u001b[1;33m\u001b[0m\u001b[0m\n\u001b[0;32m   2477\u001b[0m         updated = session.run(fetches=fetches, feed_dict=feed_dict,\n\u001b[1;32m-> 2478\u001b[1;33m                               **self.session_kwargs)\n\u001b[0m\u001b[0;32m   2479\u001b[0m         \u001b[1;32mreturn\u001b[0m \u001b[0mupdated\u001b[0m\u001b[1;33m[\u001b[0m\u001b[1;33m:\u001b[0m\u001b[0mlen\u001b[0m\u001b[1;33m(\u001b[0m\u001b[0mself\u001b[0m\u001b[1;33m.\u001b[0m\u001b[0moutputs\u001b[0m\u001b[1;33m)\u001b[0m\u001b[1;33m]\u001b[0m\u001b[1;33m\u001b[0m\u001b[0m\n\u001b[0;32m   2480\u001b[0m \u001b[1;33m\u001b[0m\u001b[0m\n",
      "\u001b[1;32mc:\\users\\dea\\anaconda3\\envs\\tensorflowgpu\\lib\\site-packages\\tensorflow\\python\\client\\session.py\u001b[0m in \u001b[0;36mrun\u001b[1;34m(self, fetches, feed_dict, options, run_metadata)\u001b[0m\n\u001b[0;32m    903\u001b[0m     \u001b[1;32mtry\u001b[0m\u001b[1;33m:\u001b[0m\u001b[1;33m\u001b[0m\u001b[0m\n\u001b[0;32m    904\u001b[0m       result = self._run(None, fetches, feed_dict, options_ptr,\n\u001b[1;32m--> 905\u001b[1;33m                          run_metadata_ptr)\n\u001b[0m\u001b[0;32m    906\u001b[0m       \u001b[1;32mif\u001b[0m \u001b[0mrun_metadata\u001b[0m\u001b[1;33m:\u001b[0m\u001b[1;33m\u001b[0m\u001b[0m\n\u001b[0;32m    907\u001b[0m         \u001b[0mproto_data\u001b[0m \u001b[1;33m=\u001b[0m \u001b[0mtf_session\u001b[0m\u001b[1;33m.\u001b[0m\u001b[0mTF_GetBuffer\u001b[0m\u001b[1;33m(\u001b[0m\u001b[0mrun_metadata_ptr\u001b[0m\u001b[1;33m)\u001b[0m\u001b[1;33m\u001b[0m\u001b[0m\n",
      "\u001b[1;32mc:\\users\\dea\\anaconda3\\envs\\tensorflowgpu\\lib\\site-packages\\tensorflow\\python\\client\\session.py\u001b[0m in \u001b[0;36m_run\u001b[1;34m(self, handle, fetches, feed_dict, options, run_metadata)\u001b[0m\n\u001b[0;32m   1107\u001b[0m             \u001b[0mfeed_handles\u001b[0m\u001b[1;33m[\u001b[0m\u001b[0msubfeed_t\u001b[0m\u001b[1;33m]\u001b[0m \u001b[1;33m=\u001b[0m \u001b[0msubfeed_val\u001b[0m\u001b[1;33m\u001b[0m\u001b[0m\n\u001b[0;32m   1108\u001b[0m           \u001b[1;32melse\u001b[0m\u001b[1;33m:\u001b[0m\u001b[1;33m\u001b[0m\u001b[0m\n\u001b[1;32m-> 1109\u001b[1;33m             \u001b[0mnp_val\u001b[0m \u001b[1;33m=\u001b[0m \u001b[0mnp\u001b[0m\u001b[1;33m.\u001b[0m\u001b[0masarray\u001b[0m\u001b[1;33m(\u001b[0m\u001b[0msubfeed_val\u001b[0m\u001b[1;33m,\u001b[0m \u001b[0mdtype\u001b[0m\u001b[1;33m=\u001b[0m\u001b[0msubfeed_dtype\u001b[0m\u001b[1;33m)\u001b[0m\u001b[1;33m\u001b[0m\u001b[0m\n\u001b[0m\u001b[0;32m   1110\u001b[0m \u001b[1;33m\u001b[0m\u001b[0m\n\u001b[0;32m   1111\u001b[0m           if (not is_tensor_handle_feed and\n",
      "\u001b[1;32mc:\\users\\dea\\anaconda3\\envs\\tensorflowgpu\\lib\\site-packages\\numpy\\core\\numeric.py\u001b[0m in \u001b[0;36masarray\u001b[1;34m(a, dtype, order)\u001b[0m\n\u001b[0;32m    490\u001b[0m \u001b[1;33m\u001b[0m\u001b[0m\n\u001b[0;32m    491\u001b[0m     \"\"\"\n\u001b[1;32m--> 492\u001b[1;33m     \u001b[1;32mreturn\u001b[0m \u001b[0marray\u001b[0m\u001b[1;33m(\u001b[0m\u001b[0ma\u001b[0m\u001b[1;33m,\u001b[0m \u001b[0mdtype\u001b[0m\u001b[1;33m,\u001b[0m \u001b[0mcopy\u001b[0m\u001b[1;33m=\u001b[0m\u001b[1;32mFalse\u001b[0m\u001b[1;33m,\u001b[0m \u001b[0morder\u001b[0m\u001b[1;33m=\u001b[0m\u001b[0morder\u001b[0m\u001b[1;33m)\u001b[0m\u001b[1;33m\u001b[0m\u001b[0m\n\u001b[0m\u001b[0;32m    493\u001b[0m \u001b[1;33m\u001b[0m\u001b[0m\n\u001b[0;32m    494\u001b[0m \u001b[1;33m\u001b[0m\u001b[0m\n",
      "\u001b[1;31mKeyboardInterrupt\u001b[0m: "
     ]
    }
   ],
   "source": [
    "batch_size = 32\n",
    "epochs = 50\n",
    "history = model.fit(X_train, y_train, epochs=epochs, batch_size=batch_size, shuffle=True, validation_data=(X_test, y_test))"
   ]
  },
  {
   "cell_type": "markdown",
   "metadata": {},
   "source": [
    "## Sklearn approach"
   ]
  },
  {
   "cell_type": "code",
   "execution_count": 6,
   "metadata": {},
   "outputs": [],
   "source": [
    "from mrcode.preprocessing import experiment_data"
   ]
  },
  {
   "cell_type": "code",
   "execution_count": 7,
   "metadata": {},
   "outputs": [
    {
     "name": "stdout",
     "output_type": "stream",
     "text": [
      "============ Data Loaded ============\n",
      "X_train shape: (9660, 17600)\n",
      "X_val shape: (345, 17600)\n",
      "X_test shape: (345, 17600)\n",
      "y_train shape: (9660, 23)\n",
      "y_val shape: (345, 23)\n",
      "y_test shape: (345, 23)\n",
      "\n",
      "\n"
     ]
    }
   ],
   "source": [
    "X_train, y_train, X_test, y_test, X_val, y_val = experiment_data.load_data()"
   ]
  },
  {
   "cell_type": "code",
   "execution_count": 8,
   "metadata": {},
   "outputs": [
    {
     "data": {
      "text/plain": [
       "(9660,)"
      ]
     },
     "execution_count": 8,
     "metadata": {},
     "output_type": "execute_result"
    }
   ],
   "source": [
    "y_train_new = y_train.argmax(1)\n",
    "y_test_new = y_test.argmax(1)\n",
    "y_train_new.shape"
   ]
  },
  {
   "cell_type": "code",
   "execution_count": 9,
   "metadata": {},
   "outputs": [
    {
     "data": {
      "text/plain": [
       "LogisticRegressionCV(Cs=10, class_weight=None, cv=3, dual=False,\n",
       "           fit_intercept=True, intercept_scaling=1.0, max_iter=100,\n",
       "           multi_class='ovr', n_jobs=1, penalty='l2', random_state=None,\n",
       "           refit=True, scoring=None, solver='lbfgs', tol=0.0001, verbose=0)"
      ]
     },
     "execution_count": 9,
     "metadata": {},
     "output_type": "execute_result"
    }
   ],
   "source": [
    "ridge_model = LogisticRegressionCV(cv=3)\n",
    "ridge_model.fit(X_train,y_train_new)"
   ]
  },
  {
   "cell_type": "code",
   "execution_count": 10,
   "metadata": {},
   "outputs": [],
   "source": [
    "y_predict = ridge_model.predict(X_test)"
   ]
  },
  {
   "cell_type": "code",
   "execution_count": 11,
   "metadata": {},
   "outputs": [],
   "source": [
    "trues = 0\n",
    "false = 0\n",
    "for i in range(len(y_predict)):\n",
    "    if y_predict[i] == y_test_new[i]:\n",
    "        trues += 1\n",
    "    else:\n",
    "        false += 1"
   ]
  },
  {
   "cell_type": "code",
   "execution_count": 36,
   "metadata": {},
   "outputs": [
    {
     "data": {
      "text/plain": [
       "array([[1, 1, 0, 1, 0, 2, 0, 1, 0, 0, 1, 2, 0, 0, 0, 0, 0, 1, 2, 1, 0, 1,\n",
       "        1],\n",
       "       [1, 2, 0, 2, 0, 0, 1, 2, 1, 0, 1, 0, 0, 1, 0, 0, 1, 1, 0, 1, 0, 0,\n",
       "        1],\n",
       "       [0, 0, 1, 1, 0, 0, 0, 0, 0, 2, 0, 1, 2, 1, 0, 1, 1, 0, 1, 3, 0, 1,\n",
       "        0],\n",
       "       [0, 1, 0, 0, 0, 1, 0, 0, 2, 1, 1, 2, 0, 0, 1, 1, 0, 1, 2, 0, 2, 0,\n",
       "        0],\n",
       "       [0, 0, 0, 1, 0, 0, 1, 4, 0, 1, 2, 0, 0, 1, 0, 2, 0, 0, 0, 0, 2, 0,\n",
       "        1],\n",
       "       [0, 0, 0, 1, 0, 1, 0, 0, 2, 1, 1, 0, 0, 0, 0, 2, 1, 1, 1, 0, 1, 3,\n",
       "        0],\n",
       "       [2, 0, 0, 0, 1, 0, 0, 0, 2, 1, 1, 1, 1, 2, 1, 1, 0, 0, 0, 0, 0, 1,\n",
       "        1],\n",
       "       [0, 1, 0, 1, 0, 0, 2, 0, 0, 1, 1, 0, 3, 0, 0, 1, 2, 0, 0, 0, 1, 2,\n",
       "        0],\n",
       "       [0, 0, 0, 0, 2, 0, 1, 0, 2, 1, 1, 2, 0, 0, 0, 2, 0, 1, 0, 0, 2, 0,\n",
       "        1],\n",
       "       [0, 0, 0, 0, 0, 0, 1, 0, 0, 0, 1, 0, 1, 1, 4, 3, 0, 2, 1, 1, 0, 0,\n",
       "        0],\n",
       "       [0, 0, 1, 1, 1, 1, 1, 0, 0, 1, 0, 1, 0, 0, 0, 1, 0, 1, 2, 1, 3, 0,\n",
       "        0],\n",
       "       [0, 1, 0, 0, 0, 2, 1, 1, 2, 0, 0, 2, 1, 0, 0, 1, 0, 0, 0, 1, 3, 0,\n",
       "        0],\n",
       "       [0, 0, 0, 1, 1, 0, 0, 1, 1, 0, 0, 2, 1, 1, 1, 1, 0, 0, 2, 0, 1, 2,\n",
       "        0],\n",
       "       [0, 0, 0, 0, 1, 1, 1, 1, 0, 1, 0, 0, 2, 1, 2, 1, 0, 0, 1, 1, 0, 1,\n",
       "        1],\n",
       "       [0, 1, 1, 0, 1, 1, 1, 1, 0, 2, 0, 0, 1, 0, 0, 0, 0, 0, 1, 1, 1, 1,\n",
       "        2],\n",
       "       [1, 0, 0, 0, 0, 0, 0, 0, 0, 0, 1, 1, 0, 1, 0, 4, 1, 1, 2, 0, 2, 1,\n",
       "        0],\n",
       "       [0, 0, 1, 2, 1, 1, 1, 2, 0, 0, 0, 0, 0, 2, 3, 0, 1, 0, 1, 0, 0, 0,\n",
       "        0],\n",
       "       [1, 1, 1, 1, 0, 0, 1, 0, 1, 1, 1, 2, 0, 0, 1, 2, 0, 0, 0, 0, 2, 0,\n",
       "        0],\n",
       "       [0, 0, 0, 1, 0, 0, 1, 2, 0, 0, 0, 0, 0, 1, 1, 0, 1, 0, 5, 0, 2, 0,\n",
       "        1],\n",
       "       [1, 0, 2, 0, 1, 1, 1, 1, 0, 2, 3, 0, 0, 0, 0, 0, 0, 0, 1, 0, 0, 1,\n",
       "        1],\n",
       "       [3, 0, 0, 0, 1, 1, 1, 0, 0, 0, 2, 1, 0, 0, 1, 0, 0, 0, 0, 0, 4, 0,\n",
       "        1],\n",
       "       [2, 0, 0, 0, 2, 1, 4, 0, 2, 0, 0, 0, 0, 0, 0, 0, 0, 0, 1, 0, 1, 1,\n",
       "        1],\n",
       "       [1, 1, 2, 0, 0, 1, 0, 2, 1, 0, 0, 0, 0, 3, 0, 1, 0, 0, 0, 1, 0, 0,\n",
       "        2]], dtype=int64)"
      ]
     },
     "execution_count": 36,
     "metadata": {},
     "output_type": "execute_result"
    }
   ],
   "source": [
    "confusion_matrix(y_test_new, y_predict)"
   ]
  },
  {
   "cell_type": "code",
   "execution_count": 35,
   "metadata": {},
   "outputs": [
    {
     "data": {
      "text/plain": [
       "0.08115942028985507"
      ]
     },
     "execution_count": 35,
     "metadata": {},
     "output_type": "execute_result"
    }
   ],
   "source": [
    "sum(y_predict-y_test_new==0)/len(y_test_new)"
   ]
  },
  {
   "cell_type": "code",
   "execution_count": 14,
   "metadata": {},
   "outputs": [
    {
     "data": {
      "text/plain": [
       "28"
      ]
     },
     "execution_count": 14,
     "metadata": {},
     "output_type": "execute_result"
    }
   ],
   "source": [
    "trues"
   ]
  },
  {
   "cell_type": "code",
   "execution_count": 15,
   "metadata": {},
   "outputs": [
    {
     "data": {
      "text/plain": [
       "317"
      ]
     },
     "execution_count": 15,
     "metadata": {},
     "output_type": "execute_result"
    }
   ],
   "source": [
    "false"
   ]
  },
  {
   "cell_type": "code",
   "execution_count": 3,
   "metadata": {},
   "outputs": [],
   "source": [
    "def plot_confusion_matrix(cm, classes, accuracy,\n",
    "                          normalize=False,\n",
    "                          title='Confusion matrix',\n",
    "                          cmap=plt.cm.Blues):\n",
    "\n",
    "    plt.imshow(cm, interpolation='nearest', cmap=cmap)\n",
    "    #plt.colorbar()\n",
    "    plt.title(title + ' - Accuracy: ' + str(accuracy)+'%', fontsize = 24.0)\n",
    "    tick_marks = np.arange(len(classes))\n",
    "    plt.xticks(tick_marks, classes, rotation=90.0)\n",
    "    plt.yticks(tick_marks, classes)\n",
    "\n",
    "    fmt = '.2f' if normalize else 'd'\n",
    "    thresh = cm.max() / 2.\n",
    "    for i, j in itertools.product(range(cm.shape[0]), range(cm.shape[1])):\n",
    "        plt.text(j, i, format(cm[i, j], fmt),\n",
    "                 horizontalalignment=\"center\", verticalalignment='center',\n",
    "                 color=\"white\" if cm[i, j] > thresh else \"black\")\n",
    "\n",
    "    plt.tight_layout()\n",
    "    plt.ylabel('True label', fontsize = 20.0)\n",
    "    plt.xlabel('Predicted label', fontsize = 20.0)"
   ]
  },
  {
   "cell_type": "code",
   "execution_count": 4,
   "metadata": {},
   "outputs": [],
   "source": [
    "labels = folderFinder(settings.data_path_init() + '/images/')"
   ]
  },
  {
   "cell_type": "code",
   "execution_count": 40,
   "metadata": {},
   "outputs": [],
   "source": [
    "y_test1 = [labels[ii] for ii in y_test_new]\n",
    "predictions1 = [labels[ii] for ii in y_predict]"
   ]
  },
  {
   "cell_type": "code",
   "execution_count": 59,
   "metadata": {},
   "outputs": [],
   "source": [
    "# save\n",
    "import pickle\n",
    "with open(\"y_test1.txt\", \"wb\") as fp:   #Pickling\n",
    "    pickle.dump(y_test1, fp)\n",
    "with open(\"predictions1.txt\", \"wb\") as fp:   #Pickling\n",
    "    pickle.dump(predictions1, fp)\n",
    "with open(\"y_predict.txt\", \"wb\") as fp:   #Pickling\n",
    "    pickle.dump(y_predict, fp)"
   ]
  },
  {
   "cell_type": "code",
   "execution_count": 7,
   "metadata": {},
   "outputs": [],
   "source": [
    "# load\n",
    "with open(\"y_test1.txt\", \"rb\") as fp:\n",
    "    y_test1 = pickle.load(fp)\n",
    "with open(\"predictions1.txt\", \"rb\") as fp:\n",
    "    predictions1 = pickle.load(fp)\n",
    "with open(\"y_predict.txt\", \"rb\") as fp:\n",
    "    y_predict = pickle.load(fp)"
   ]
  },
  {
   "cell_type": "code",
   "execution_count": 8,
   "metadata": {},
   "outputs": [],
   "source": [
    "conf_mat = confusion_matrix(y_test1, predictions1, labels)"
   ]
  },
  {
   "cell_type": "code",
   "execution_count": 13,
   "metadata": {},
   "outputs": [],
   "source": [
    "#accuracy = 8\n",
    "accuracy = 16\n",
    "#accuracy = 19"
   ]
  },
  {
   "cell_type": "code",
   "execution_count": 29,
   "metadata": {},
   "outputs": [],
   "source": [
    "conf_mat_cca = [[float('NaN'),0,0,2,0,0,1,0,0,0,0,0,1,0,0],\n",
    "                [0,float('NaN'),0,1,0,0,0,0,0,0,0,0,0,0,1],\n",
    "                [0,0,float('NaN'),0,0,0,0,0,0,0,0,0,0,0,0],\n",
    "                [2,1,0,float('NaN'),0,0,0,1,0,0,0,0,0,0,1],\n",
    "                [0,0,0,0,float('NaN'),0,0,0,0,0,0,0,0,0,0],\n",
    "                [0,0,0,0,0,float('NaN'),1,0,0,0,0,2,0,0,0],\n",
    "                [1,0,0,0,0,1,float('NaN'),0,0,0,0,0,0,0,0],\n",
    "                [0,0,0,1,0,0,0,float('NaN'),0,0,0,1,0,0,5],\n",
    "                [0,0,0,0,0,0,0,0,float('NaN'),2,0,0,0,0,0],\n",
    "                [0,0,0,0,0,0,0,0,2,float('NaN'),0,0,0,0,0],\n",
    "                [0,0,0,0,0,0,0,0,0,0,float('NaN'),0,0,0,0],\n",
    "                [0,0,0,0,0,2,0,1,0,0,0,float('NaN'),0,0,0],\n",
    "                [1,0,0,0,0,0,0,0,0,0,0,0,float('NaN'),2,0],\n",
    "                [0,0,0,0,0,0,0,0,0,0,0,0,2,float('NaN'),0],\n",
    "                [0,1,0,1,0,0,0,5,0,0,0,0,0,0,float('NaN')]]"
   ]
  },
  {
   "cell_type": "code",
   "execution_count": 53,
   "metadata": {},
   "outputs": [],
   "source": [
    "conf_mat_basis = [[float('NaN'),0,1,0,0,0,0,0,0,0,1,0,0,0,0],\n",
    "                [0,float('NaN'),1,0,0,0,0,0,0,0,0,0,0,0,0],\n",
    "                [1,1,float('NaN'),0,0,0,0,0,0,0,0,0,0,0,1],\n",
    "                [0,0,0,float('NaN'),0,0,0,0,0,0,0,0,0,0,0],\n",
    "                [0,0,0,0,float('NaN'),0,0,0,0,0,0,0,0,0,0],\n",
    "                [0,0,0,0,0,float('NaN'),0,0,0,2,0,0,0,0,0],\n",
    "                [0,0,0,0,0,0,float('NaN'),0,0,0,0,0,0,0,0],\n",
    "                [0,0,0,0,0,0,0,float('NaN'),1,0,0,0,0,0,0],\n",
    "                [0,0,0,0,0,0,0,1,float('NaN'),0,0,0,3,0,0],\n",
    "                [0,0,0,0,0,2,0,0,0,float('NaN'),0,0,0,0,0],\n",
    "                [1,0,0,0,0,0,0,0,0,0,float('NaN'),0,0,0,0],\n",
    "                [0,0,0,0,0,0,0,0,0,0,0,float('NaN'),0,0,0],\n",
    "                [0,0,0,0,0,0,0,0,3,0,0,0,float('NaN'),0,0],\n",
    "                [0,0,0,0,0,0,0,0,0,0,0,0,0,float('NaN'),0],\n",
    "                [0,0,1,0,0,0,0,0,0,0,0,0,0,0,float('NaN')]]"
   ]
  },
  {
   "cell_type": "code",
   "execution_count": 54,
   "metadata": {},
   "outputs": [],
   "source": [
    "#conf_mat = np.load('conf_mat_best.npy')"
   ]
  },
  {
   "cell_type": "code",
   "execution_count": 55,
   "metadata": {},
   "outputs": [],
   "source": [
    "def plot_confusion_matrix_cca(cm, classes,\n",
    "                          normalize=True,\n",
    "                          cmap=plt.cm.Greens):\n",
    "\n",
    "    plt.imshow(cm, interpolation='nearest', cmap=cmap)\n",
    "    #plt.colorbar()\n",
    "    plt.title('Number of significant components between subjects in CCA', fontsize = 22.0)\n",
    "    tick_marks = np.arange(len(classes))\n",
    "    plt.xticks(tick_marks, classes, rotation=90.0)\n",
    "    plt.yticks(tick_marks, classes)\n",
    "    cm = np.asarray(cm)\n",
    "    fmt = '.2f' if normalize else 'd'\n",
    "    thresh = 2 #cm.max() / 2.\n",
    "    for i, j in itertools.product(range(cm.shape[0]), range(cm.shape[1])):\n",
    "        plt.text(j, i, format(cm[i, j]),\n",
    "                 horizontalalignment=\"center\", verticalalignment='center',\n",
    "                 color=\"white\" if cm[i, j] > thresh else \"black\")\n",
    "\n",
    "    plt.tight_layout()\n",
    "    plt.ylabel('Subject', fontsize = 20.0)\n",
    "    plt.xticks(rotation = 90)\n",
    "    plt.xlabel('Subject', fontsize = 20.0)"
   ]
  },
  {
   "cell_type": "code",
   "execution_count": 56,
   "metadata": {
    "scrolled": true
   },
   "outputs": [
    {
     "data": {
      "image/png": "[encoded data removed]",
      "text/plain": [
       "<Figure size 720x720 with 1 Axes>"
      ]
     },
     "metadata": {},
     "output_type": "display_data"
    }
   ],
   "source": [
    "plt.figure(figsize=(10,10))\n",
    "np.set_printoptions(precision=2)\n",
    "labels = [1,2,3,4,5,6,7,8,9,10,11,12,13,14,15]\n",
    "plot_confusion_matrix_cca(conf_mat_basis, labels, accuracy)\n",
    "#plt.colorbar()\n",
    "plt.savefig('cca_intersubject_basis.png', bbox_inches = 'tight')\n",
    "plt.show()"
   ]
  },
  {
   "cell_type": "code",
   "execution_count": null,
   "metadata": {},
   "outputs": [],
   "source": []
  },
  {
   "cell_type": "code",
   "execution_count": null,
   "metadata": {},
   "outputs": [],
   "source": []
  },
  {
   "cell_type": "markdown",
   "metadata": {},
   "source": [
    "## Prediction keras method"
   ]
  },
  {
   "cell_type": "code",
   "execution_count": 19,
   "metadata": {
    "collapsed": true
   },
   "outputs": [],
   "source": [
    "testPredict = model.predict(X_test)\n",
    "predict_classes = testPredict.argmax(1)\n",
    "true_classes = y_test.argmax(1)\n"
   ]
  },
  {
   "cell_type": "code",
   "execution_count": 20,
   "metadata": {},
   "outputs": [
    {
     "name": "stdout",
     "output_type": "stream",
     "text": [
      "[1 2 0 1 0 1 1 0 0 0 0 0 1 0 2 0 0 0 1 0 0 0 0]\n",
      "0.0869565217391\n"
     ]
    }
   ],
   "source": [
    "#print(true_classes)\n",
    "#print(predict_classes)\n",
    "\n",
    "hej = np.array(predict_classes-true_classes == 0)\n",
    "hej = sum(hej.reshape(5, 23),0)\n",
    "print(hej)\n",
    "print(sum(hej)/115)\n",
    "#len(predict_classes)"
   ]
  },
  {
   "cell_type": "code",
   "execution_count": null,
   "metadata": {
    "collapsed": true
   },
   "outputs": [],
   "source": [
    "predictions = metrics.top_k_categorical_accuracy(y_test,testPredict,k=1)\n",
    "\n",
    "init = tf.global_variables_initializer()\n",
    "\n",
    "sess = tf.Session()\n",
    "sess.run(init)\n",
    "v = sess.run(predictions)    \n",
    "print(v) # will show you your variable."
   ]
  }
 ],
 "metadata": {
  "kernelspec": {
   "display_name": "Python 3",
   "language": "python",
   "name": "python3"
  },
  "language_info": {
   "codemirror_mode": {
    "name": "ipython",
    "version": 3
   },
   "file_extension": ".py",
   "mimetype": "text/x-python",
   "name": "python",
   "nbconvert_exporter": "python",
   "pygments_lexer": "ipython3",
   "version": "3.6.4"
  }
 },
 "nbformat": 4,
 "nbformat_minor": 2
}
