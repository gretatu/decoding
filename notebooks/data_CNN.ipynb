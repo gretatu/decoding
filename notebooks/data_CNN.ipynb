{
 "cells": [
  {
   "cell_type": "code",
   "execution_count": 1,
   "metadata": {},
   "outputs": [
    {
     "name": "stderr",
     "output_type": "stream",
     "text": [
      "c:\\users\\dea\\anaconda3\\envs\\tensorflowgpu\\lib\\site-packages\\h5py\\__init__.py:36: FutureWarning: Conversion of the second argument of issubdtype from `float` to `np.floating` is deprecated. In future, it will be treated as `np.float64 == np.dtype(float).type`.\n",
      "  from ._conv import register_converters as _register_converters\n",
      "Using TensorFlow backend.\n"
     ]
    }
   ],
   "source": [
    "# Imports\n",
    "import scipy.io as sio\n",
    "from scipy import stats\n",
    "from sklearn import linear_model\n",
    "import numpy as np\n",
    "import matplotlib.pyplot as plt\n",
    "import sys\n",
    "import numpy as np\n",
    "from sklearn import datasets\n",
    "import scipy\n",
    "import pandas as pd\n",
    "from sklearn.preprocessing import StandardScaler, MinMaxScaler\n",
    "from sklearn.linear_model import Ridge, RidgeCV, LogisticRegression\n",
    "from sklearn.metrics import mean_squared_error\n",
    "from sklearn.metrics import confusion_matrix\n",
    "import h5py\n",
    "import random\n",
    "import utils\n",
    "import csv\n",
    "\n",
    "sys.path.append(\"../\") # go to parent dir\n",
    "from mrcode.utils.file_utils import fileFinder, folderFinder"
   ]
  },
  {
   "cell_type": "code",
   "execution_count": 57,
   "metadata": {},
   "outputs": [],
   "source": [
    "def std_windows(eeg, time_window = 50):\n",
    "    temp_eeg = []\n",
    "    for ii in range(eeg.shape[0]):\n",
    "        temp_epoch = eeg[ii,:,:]\n",
    "        temp_eeg.append(np.std(temp_epoch.reshape(int(temp_epoch.shape[0]/time_window),time_window,temp_epoch.shape[1]),1).flatten())\n",
    "    std_eeg = np.array(temp_eeg)\n",
    "    return std_eeg\n",
    "\n",
    "def std_overlap_windows(eeg, time_window = 80, overlap = 0.5):\n",
    "    temp_eeg = []\n",
    "    for ii in range(eeg.shape[0]):\n",
    "        temp_epoch = eeg[ii,:,:]\n",
    "        std_channels = []\n",
    "        for jj in range(temp_epoch.shape[1]):\n",
    "            channel = temp_epoch[:,jj]\n",
    "\n",
    "            std_channel = []\n",
    "            for kk in range(int(time_window*overlap)):\n",
    "                std_channel.append(channel[kk:(kk+time_window)])\n",
    "\n",
    "            std_channels.append(np.std(std_channel,1))\n",
    "\n",
    "        temp_eeg.append(std_channels)\n",
    "        \n",
    "    temp_eeg_array = np.array(temp_eeg)\n",
    "    std_temp_eeg = temp_eeg_array.reshape(temp_eeg_array.shape[0],temp_eeg_array.shape[2]*temp_eeg_array.shape[1])\n",
    "    return std_temp_eeg\n",
    "\n",
    "def load_data(ii,data_path,feature = 'raw'):\n",
    "    data = sio.loadmat(data_path + '/' + ii + '/eeg_events.mat')\n",
    "    eeg = data['eeg_events'].transpose()\n",
    "    \n",
    "    if feature == 'raw':\n",
    "        eeg = eeg.reshape(eeg.shape[0],eeg.shape[2]*eeg.shape[1])\n",
    "        # normalizing data\n",
    "        #eeg = np.arcsinh(eeg*1000)\n",
    "    \n",
    "    if feature == 'std':\n",
    "        eeg = std_windows(eeg)\n",
    "        \n",
    "    if feature == 'std_overlap':\n",
    "        eeg = std_overlap_windows(eeg)\n",
    "    \n",
    "    data_image = sio.loadmat(data_path + '/' + ii + '/image_semantics.mat')\n",
    "    image_semantics = data_image['image_semantics'].transpose()\n",
    "    image_info = pd.read_csv(data_path + '/' + ii + '/image_order.txt', delimiter='\\t', dtype=object)\n",
    "    return eeg, image_semantics, image_info"
   ]
  },
  {
   "cell_type": "code",
   "execution_count": 81,
   "metadata": {},
   "outputs": [],
   "source": [
    "data_path = '../data/experiment_data'\n",
    "experiment_folders = folderFinder(data_path)\n",
    "X_temp = []\n",
    "Y_temp = []\n",
    "imageids = []\n",
    "target = 'image_id'\n",
    "loadmode = 'raw'\n",
    "for count_sources, ii in enumerate(experiment_folders):\n",
    "    \n",
    "    # first time\n",
    "    if count_sources == 0:\n",
    "        eeg, image_semantics, image_info = load_data(ii,data_path, feature = loadmode)\n",
    "        X_temp = eeg\n",
    "        Y_temp = image_semantics\n",
    "        imageids = list(image_info[target].as_matrix())\n",
    "        \n",
    "    # after first load\n",
    "    elif count_sources > 0:\n",
    "        eeg, image_semantics, image_info = load_data(ii,data_path, feature = loadmode)\n",
    "        X_temp = np.vstack((X_temp,eeg))\n",
    "        Y_temp = np.vstack((Y_temp,image_semantics))\n",
    "        imageids = np.hstack((imageids,list(image_info[target].as_matrix())))"
   ]
  },
  {
   "cell_type": "markdown",
   "metadata": {},
   "source": [
    "## DO NOT RUN Make data ready for CNN"
   ]
  },
  {
   "cell_type": "code",
   "execution_count": 82,
   "metadata": {},
   "outputs": [],
   "source": [
    "# Normalize - this is run be\n",
    "xScale = StandardScaler().fit(X_temp) \n",
    "X_temp = xScale.transform(X_temp)"
   ]
  },
  {
   "cell_type": "code",
   "execution_count": 83,
   "metadata": {},
   "outputs": [
    {
     "data": {
      "text/plain": [
       "(10350, 17600)"
      ]
     },
     "execution_count": 83,
     "metadata": {},
     "output_type": "execute_result"
    }
   ],
   "source": [
    "X_temp.shape"
   ]
  },
  {
   "cell_type": "code",
   "execution_count": 84,
   "metadata": {},
   "outputs": [],
   "source": [
    "# Reshape data\n",
    "X_temp_new = []\n",
    "for i in X_temp:\n",
    "    reshape = i.reshape(32,550)\n",
    "    trans = reshape.transpose()\n",
    "    reshape1 = trans.reshape(550,32,1)\n",
    "    X_temp_new.append(reshape1)\n",
    "X_temp = np.asarray(X_temp_new)"
   ]
  },
  {
   "cell_type": "code",
   "execution_count": 85,
   "metadata": {},
   "outputs": [
    {
     "data": {
      "text/plain": [
       "(10350, 550, 32, 1)"
      ]
     },
     "execution_count": 85,
     "metadata": {},
     "output_type": "execute_result"
    }
   ],
   "source": [
    "X_temp.shape"
   ]
  },
  {
   "cell_type": "code",
   "execution_count": 86,
   "metadata": {},
   "outputs": [],
   "source": [
    "# Load testsplit\n",
    "test_split = np.load('../data/pred_image_semantics/test_split.npy')\n",
    "val_split = np.load('../data/pred_image_semantics/val_split.npy')"
   ]
  },
  {
   "cell_type": "code",
   "execution_count": 87,
   "metadata": {},
   "outputs": [],
   "source": [
    "# Creating the test set\n",
    "X_test = X_temp[test_split,:,:]\n",
    "\n",
    "# Deleting test set from training set\n",
    "X_train = np.delete(X_temp, test_split,0)\n",
    "\n",
    "# Creating the validation set\n",
    "X_val = X_train[val_split,:,:]\n",
    "\n",
    "# Deleting the validation set from training set\n",
    "X_trainVal = np.delete(X_train, val_split,0)"
   ]
  },
  {
   "cell_type": "code",
   "execution_count": 88,
   "metadata": {},
   "outputs": [
    {
     "name": "stdout",
     "output_type": "stream",
     "text": [
      "(345, 550, 32, 1)\n",
      "(10005, 550, 32, 1)\n",
      "(345, 550, 32, 1)\n",
      "(9660, 550, 32, 1)\n"
     ]
    }
   ],
   "source": [
    "# Printing shape of data\n",
    "print(X_test.shape)\n",
    "print(X_train.shape)\n",
    "print(X_val.shape)\n",
    "print(X_trainVal.shape)"
   ]
  },
  {
   "cell_type": "markdown",
   "metadata": {},
   "source": [
    "### DO NOT RUN Save data"
   ]
  },
  {
   "cell_type": "code",
   "execution_count": 89,
   "metadata": {},
   "outputs": [],
   "source": [
    "np.save('../data/pred_image_semantics/X_testCNN',X_test)\n",
    "np.save('../data/pred_image_semantics/X_valCNN',X_val)\n",
    "np.save('../data/pred_image_semantics/X_trainCNN',X_trainVal)"
   ]
  },
  {
   "cell_type": "markdown",
   "metadata": {},
   "source": [
    "## Testing the reshape"
   ]
  },
  {
   "cell_type": "code",
   "execution_count": 54,
   "metadata": {},
   "outputs": [
    {
     "data": {
      "text/plain": [
       "array([[[1, 1, 1],\n",
       "        [2, 2, 2],\n",
       "        [3, 3, 3],\n",
       "        [7, 7, 7]],\n",
       "\n",
       "       [[4, 4, 4],\n",
       "        [5, 5, 5],\n",
       "        [6, 6, 6],\n",
       "        [8, 8, 8]]])"
      ]
     },
     "execution_count": 54,
     "metadata": {},
     "output_type": "execute_result"
    }
   ],
   "source": [
    "a = np.array([[[1,1,1],[2,2,2],[3,3,3],[7,7,7]], [[4,4,4],[5,5,5],[6,6,6],[8,8,8]]])\n",
    "a"
   ]
  },
  {
   "cell_type": "code",
   "execution_count": 55,
   "metadata": {},
   "outputs": [
    {
     "data": {
      "text/plain": [
       "array([[1, 1, 1, 2, 2, 2, 3, 3, 3, 7, 7, 7],\n",
       "       [4, 4, 4, 5, 5, 5, 6, 6, 6, 8, 8, 8]])"
      ]
     },
     "execution_count": 55,
     "metadata": {},
     "output_type": "execute_result"
    }
   ],
   "source": [
    "new_a = a.reshape(a.shape[0],a.shape[2]*a.shape[1])\n",
    "new_a"
   ]
  },
  {
   "cell_type": "code",
   "execution_count": 56,
   "metadata": {},
   "outputs": [
    {
     "data": {
      "text/plain": [
       "array([[[1, 1, 1],\n",
       "        [2, 2, 2],\n",
       "        [3, 3, 3],\n",
       "        [7, 7, 7]],\n",
       "\n",
       "       [[4, 4, 4],\n",
       "        [5, 5, 5],\n",
       "        [6, 6, 6],\n",
       "        [8, 8, 8]]])"
      ]
     },
     "execution_count": 56,
     "metadata": {},
     "output_type": "execute_result"
    }
   ],
   "source": [
    "a_new = []\n",
    "for i in new_a:\n",
    "    a_new.append(i.reshape(4,3))\n",
    "a_new = np.asarray(a_new)\n",
    "a_new"
   ]
  },
  {
   "cell_type": "code",
   "execution_count": null,
   "metadata": {},
   "outputs": [],
   "source": []
  }
 ],
 "metadata": {
  "kernelspec": {
   "display_name": "Python 3",
   "language": "python",
   "name": "python3"
  },
  "language_info": {
   "codemirror_mode": {
    "name": "ipython",
    "version": 3
   },
   "file_extension": ".py",
   "mimetype": "text/x-python",
   "name": "python",
   "nbconvert_exporter": "python",
   "pygments_lexer": "ipython3",
   "version": "3.6.5"
  }
 },
 "nbformat": 4,
 "nbformat_minor": 2
}
